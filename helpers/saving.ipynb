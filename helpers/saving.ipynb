{
 "cells": [
  {
   "cell_type": "code",
   "execution_count": 5,
   "id": "d51dc971",
   "metadata": {},
   "outputs": [
    {
     "ename": "NameError",
     "evalue": "name 'saving_results' is not defined",
     "output_type": "error",
     "traceback": [
      "\u001b[0;31m---------------------------------------------------------------------------\u001b[0m",
      "\u001b[0;31mNameError\u001b[0m                                 Traceback (most recent call last)",
      "\u001b[0;32m/tmp/ipykernel_37845/1375417992.py\u001b[0m in \u001b[0;36m<module>\u001b[0;34m\u001b[0m\n\u001b[1;32m      1\u001b[0m \u001b[0;34m\"\"\"This code is a mess but it works :D\"\"\"\u001b[0m\u001b[0;34m\u001b[0m\u001b[0;34m\u001b[0m\u001b[0m\n\u001b[1;32m      2\u001b[0m \u001b[0;34m\u001b[0m\u001b[0m\n\u001b[0;32m----> 3\u001b[0;31m \u001b[0mdfresults\u001b[0m \u001b[0;34m=\u001b[0m \u001b[0mpd\u001b[0m\u001b[0;34m.\u001b[0m\u001b[0mDataFrame\u001b[0m\u001b[0;34m(\u001b[0m\u001b[0msaving_results\u001b[0m\u001b[0;34m,\u001b[0m\u001b[0mindex\u001b[0m\u001b[0;34m=\u001b[0m\u001b[0mindexes_save\u001b[0m\u001b[0;34m)\u001b[0m\u001b[0;34m\u001b[0m\u001b[0;34m\u001b[0m\u001b[0m\n\u001b[0m\u001b[1;32m      4\u001b[0m \u001b[0mimputed_data\u001b[0m \u001b[0;34m=\u001b[0m \u001b[0mnp\u001b[0m\u001b[0;34m.\u001b[0m\u001b[0mreshape\u001b[0m\u001b[0;34m(\u001b[0m\u001b[0mimputed_dfs\u001b[0m\u001b[0;34m,\u001b[0m\u001b[0;34m(\u001b[0m\u001b[0;36m5\u001b[0m\u001b[0;34m,\u001b[0m\u001b[0mlen\u001b[0m\u001b[0;34m(\u001b[0m\u001b[0mimputed_dfs\u001b[0m\u001b[0;34m[\u001b[0m\u001b[0;36m0\u001b[0m\u001b[0;34m]\u001b[0m\u001b[0;34m)\u001b[0m\u001b[0;34m)\u001b[0m\u001b[0;34m)\u001b[0m\u001b[0;34m.\u001b[0m\u001b[0mT\u001b[0m\u001b[0;34m\u001b[0m\u001b[0;34m\u001b[0m\u001b[0m\n\u001b[1;32m      5\u001b[0m \u001b[0mgap_data\u001b[0m \u001b[0;34m=\u001b[0m \u001b[0mnp\u001b[0m\u001b[0;34m.\u001b[0m\u001b[0mreshape\u001b[0m\u001b[0;34m(\u001b[0m\u001b[0mdfs_with_gaps\u001b[0m\u001b[0;34m,\u001b[0m\u001b[0;34m(\u001b[0m\u001b[0;36m5\u001b[0m\u001b[0;34m,\u001b[0m\u001b[0mlen\u001b[0m\u001b[0;34m(\u001b[0m\u001b[0mdfs_with_gaps\u001b[0m\u001b[0;34m[\u001b[0m\u001b[0;36m0\u001b[0m\u001b[0;34m]\u001b[0m\u001b[0;34m)\u001b[0m\u001b[0;34m)\u001b[0m\u001b[0;34m)\u001b[0m\u001b[0;34m.\u001b[0m\u001b[0mT\u001b[0m\u001b[0;34m\u001b[0m\u001b[0;34m\u001b[0m\u001b[0m\n",
      "\u001b[0;31mNameError\u001b[0m: name 'saving_results' is not defined"
     ]
    }
   ],
   "source": [
    "\"\"\"This code is a mess but it works :D\"\"\"\n",
    "\n",
    "dfresults = pd.DataFrame(saving_results,index=indexes_save)\n",
    "imputed_data = np.reshape(imputed_dfs,(5,len(imputed_dfs[0]))).T\n",
    "gap_data = np.reshape(dfs_with_gaps,(5,len(dfs_with_gaps[0]))).T\n",
    "dfimputed_data = pd.DataFrame(imputed_data,columns=indexes_save)\n",
    "dfgap_data = pd.DataFrame(gap_data,columns = gap_indexes_save )\n",
    "df_gap_and_imp_data = pd.concat([dfimputed_data,dfgap_data],axis=1)\n",
    "now = datetime.now()\n",
    "dt_string = now.strftime(\"%d/%m/%Y %H:%M:%S\")\n",
    "dfresults['random_state'] = random_state\n",
    "dfresults['Date and Time'] = dt_string\n",
    "\n",
    "\n",
    "\n",
    "file_name = str(imputer['title']+' '+str(dt_string))+'.csv'\n",
    "\n",
    "def plot_imputation2(gapped: pd.DataFrame, imputed: pd.DataFrame, y_label: str,title=\"Untitled\"):\n",
    "    global df\n",
    "\n",
    "    fig, ax = plt.subplots(figsize=(9, 6))\n",
    "    plt.title(title)\n",
    "    plt.xlabel(\"Time\")\n",
    "    plt.ylabel(y_label)\n",
    "    plt.plot(df, c=\"green\", label=\"Reference data\")\n",
    "    plt.plot(imputed, c=\"red\", label=\"Imputed data\")\n",
    "    plt.plot(gapped, c=\"cyan\", label=\"Data with gaps\")\n",
    "    ax.legend()\n",
    "    plt.savefig('saved_results/'+image_name.replace(\"/\",\"-\"))\n",
    "    \n",
    "    \n",
    "\n",
    "    fig, ax = plt.subplots(figsize=(9, 6))\n",
    "    plt.title(title)\n",
    "    plt.xlabel(\"Time\")\n",
    "    plt.ylabel(\"Error\")\n",
    "    plt.plot(df - imputed, c=\"blue\")\n",
    "    plt.savefig('saved_results/'+'error plot '+image_name.replace(\"/\",\"-\"))\n",
    "    \n",
    "    \n",
    "results_btn = widgets.Button(description=\"Save the Results\")\n",
    "data_btn = widgets.Button(description=\"Save the Data\")\n",
    "graph_btn = widgets.Button(description=\"Save the graphs\")\n",
    "output_results = widgets.Output()\n",
    "output_data = widgets.Output()\n",
    "output_graph = widgets.Output()\n",
    "\n",
    "display(results_btn,output_results)\n",
    "display(data_btn,output_data)\n",
    "display(graph_btn,output_graph)\n",
    "\n",
    "\n",
    "def results_clicked(b):\n",
    "    with output_results:\n",
    "        dfresults.to_csv('saved_results/'+file_name.replace(\"/\",\"-\"))\n",
    "        print('Results saved')\n",
    "def data_clicked(b):\n",
    "    with output_data:\n",
    "        df_gap_and_imp_data.to_csv('saved_results/'+'data '+file_name.replace(\"/\",\"-\"))\n",
    "        print('Data saved')\n",
    "def graph_clicked(b):\n",
    "    with output_graph:\n",
    "        for i in range(len(imputed_dfs)):\n",
    "            global image_name\n",
    "            titles = f\"{imputer['title']}\"\n",
    "            image_name = titles + ' with Gap type:'+str(i+1)+' '+str(dt_string)+'.png'\n",
    "            plot_imputation2(dfs_with_gaps[i], imputed_dfs[i], column_name, f\"{imputer['title']} with gap type {i + 1}\")\n",
    "            \n",
    "            \n",
    "            \n",
    "results_btn.on_click(results_clicked)\n",
    "data_btn.on_click(data_clicked)\n",
    "graph_btn.on_click(graph_clicked)"
   ]
  }
 ],
 "metadata": {
  "kernelspec": {
   "display_name": "Python 3 (ipykernel)",
   "language": "python",
   "name": "python3"
  },
  "language_info": {
   "codemirror_mode": {
    "name": "ipython",
    "version": 3
   },
   "file_extension": ".py",
   "mimetype": "text/x-python",
   "name": "python",
   "nbconvert_exporter": "python",
   "pygments_lexer": "ipython3",
   "version": "3.8.8"
  }
 },
 "nbformat": 4,
 "nbformat_minor": 5
}
