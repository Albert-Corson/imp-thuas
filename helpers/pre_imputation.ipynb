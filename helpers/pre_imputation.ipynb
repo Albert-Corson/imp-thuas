{
 "cells": [
  {
   "cell_type": "code",
   "execution_count": null,
   "id": "1a0d80e4",
   "metadata": {},
   "outputs": [],
   "source": [
    "%run helpers/load_data.ipynb"
   ]
  },
  {
   "cell_type": "code",
   "execution_count": null,
   "id": "c3dbf4f0",
   "metadata": {},
   "outputs": [],
   "source": [
    "file_select.value = \"054.xlsx\"\n",
    "sheet_select.value = \"smartMeter\"\n",
    "column_select.value = \"power\""
   ]
  },
  {
   "cell_type": "code",
   "execution_count": null,
   "id": "cc269c79",
   "metadata": {},
   "outputs": [],
   "source": [
    "df = df.head(10000)\n",
    "display(df)"
   ]
  },
  {
   "cell_type": "code",
   "execution_count": null,
   "id": "8c699eb1",
   "metadata": {},
   "outputs": [],
   "source": [
    "%run helpers/create_gaps.ipynb"
   ]
  }
 ],
 "metadata": {
  "kernelspec": {
   "display_name": "Python 3 (ipykernel)",
   "language": "python",
   "name": "python3"
  },
  "language_info": {
   "codemirror_mode": {
    "name": "ipython",
    "version": 3
   },
   "file_extension": ".py",
   "mimetype": "text/x-python",
   "name": "python",
   "nbconvert_exporter": "python",
   "pygments_lexer": "ipython3",
   "version": "3.8.10"
  }
 },
 "nbformat": 4,
 "nbformat_minor": 5
}
