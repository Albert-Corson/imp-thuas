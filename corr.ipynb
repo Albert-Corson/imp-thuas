{
 "cells": [
  {
   "cell_type": "code",
   "execution_count": 1,
   "id": "5b3c2244",
   "metadata": {},
   "outputs": [
    {
     "name": "stdout",
     "output_type": "stream",
     "text": [
      "/datc/imp/notebooks/pipeline\n"
     ]
    }
   ],
   "source": [
    "%cd pipeline\n",
    "\n",
    "dfloaders = {}\n"
   ]
  },
  {
   "cell_type": "code",
   "execution_count": 13,
   "id": "8164e38e",
   "metadata": {},
   "outputs": [],
   "source": [
    "\n",
    "def get_dfloader(conf, file):\n",
    "    global dfloaders\n",
    "    if file in dfloaders.keys():\n",
    "        return dfloaders[file]\n",
    "    %run helpers/load_data.ipynb\n",
    "    config_select.value = conf\n",
    "    file_select.value = file\n",
    "    dfloaders[file] = dfloader\n",
    "    return dfloader"
   ]
  },
  {
   "cell_type": "code",
   "execution_count": 14,
   "id": "5f0f2c0a",
   "metadata": {},
   "outputs": [],
   "source": [
    "targets = [\n",
    "    {\n",
    "        \"conf\": \"knmi\",\n",
    "        \"file\": \"344 Rotterdam.csv\",\n",
    "        \"target\": [\"Temperature\"],\n",
    "        \"features\": [\n",
    "            [\"Temperature\"],\n",
    "            [\"Global Radiation\"],\n",
    "            [\"Dew Temperature\"],\n",
    "            [\"Relative atmospheric humidity\"]\n",
    "        ]\n",
    "    },\n",
    "    {\n",
    "        \"conf\": \"knmi\",\n",
    "        \"file\": \"344 Rotterdam.csv\",\n",
    "        \"target\": [\"Relative atmospheric humidity\"],\n",
    "        \"features\": [\n",
    "            [\"Relative atmospheric humidity\"],\n",
    "            [\"Sunshine duration\"],\n",
    "            [\"Global Radiation\"],\n",
    "            [\"Horizontal visibility\"]\n",
    "        ]\n",
    "    },\n",
    "    {\n",
    "        \"conf\": \"knmi\",\n",
    "        \"file\": \"344 Rotterdam.csv\",\n",
    "        \"target\": [\"Global Radiation\"],\n",
    "        \"features\": [\n",
    "            [\"Global Radiation\"],\n",
    "            [\"Relative atmospheric humidity\"],\n",
    "            [\"Temperature\"],\n",
    "            [\"Sunshine duration\"]\n",
    "        ]\n",
    "    },\n",
    "    {\n",
    "        \"conf\": \"factory zero\",\n",
    "        \"file\": \"054.xlsx\",\n",
    "        \"target\": [\"alklimaHeatPump\", \"flow_temp\"],\n",
    "        \"features\": [\n",
    "            [\"alklimaHeatPump\", \"flow_temp\"],\n",
    "            [\"alklimaHeatPump\", \"return_temp\"],\n",
    "            [\"energyHeatpump\", \"power\"]\n",
    "        ]\n",
    "    },\n",
    "    {\n",
    "        \"conf\": \"factory zero\",\n",
    "        \"file\": \"054.xlsx\",\n",
    "        \"target\": [\"alklimaHeatPump\", \"op_mode\"],\n",
    "        \"features\": [\n",
    "            [\"alklimaHeatPump\", \"op_mode\"],\n",
    "            [\"ventilation\", \"outdoor_temp\"]\n",
    "        ]\n",
    "    },\n",
    "    {\n",
    "        \"conf\": \"factory zero\",\n",
    "        \"file\": \"054.xlsx\",\n",
    "        \"target\": [\"smartMeter\", \"power\"],\n",
    "        \"features\": [\n",
    "            [\"smartMeter\", \"power\"],\n",
    "            [\"ventilation\", \"outdoor_temp\"],\n",
    "            [\"ventilation\", \"room_temp\"],\n",
    "            [\"solar\", \"power\"]\n",
    "        ]\n",
    "    },\n",
    "    {\n",
    "        \"conf\": \"factory zero\",\n",
    "        \"file\": \"054.xlsx\",\n",
    "        \"target\": [\"co2sensor\", \"co2\"],\n",
    "        \"features\": [\n",
    "            [\"co2sensor\", \"co2\"],\n",
    "            [\"co2sensor\", \"voc\"],\n",
    "        ]\n",
    "    }\n",
    "]"
   ]
  },
  {
   "cell_type": "code",
   "execution_count": 15,
   "id": "4b0a8b50",
   "metadata": {},
   "outputs": [],
   "source": [
    "for it in targets:\n",
    "    dfloader = get_dfloader(it[\"conf\"], it[\"file\"])\n",
    "    target = it['target'] if len(it['target']) == 2 else ['0', it['target'][0]]\n",
    "    dfloader.add_targets(target[1], sheet_name=target[0])\n",
    "    for feature in it['features']:\n",
    "        feature = feature if len(feature) == 2 else ['0', feature[0]]\n",
    "        dfloader.add_features(feature[1], sheet_name=feature[0])"
   ]
  },
  {
   "cell_type": "code",
   "execution_count": 16,
   "id": "44247e41",
   "metadata": {},
   "outputs": [],
   "source": [
    "import matplotlib.pyplot as plt\n",
    "import seaborn as sns\n",
    "\n",
    "corr_matrices = {}\n",
    "\n",
    "for file in dfloaders.keys():\n",
    "    corr_matrices[file] = dfloaders[file].df.corr()"
   ]
  },
  {
   "cell_type": "code",
   "execution_count": 22,
   "id": "5eff03b7",
   "metadata": {},
   "outputs": [
    {
     "data": {
      "text/html": [
       "<div>\n",
       "<style scoped>\n",
       "    .dataframe tbody tr th:only-of-type {\n",
       "        vertical-align: middle;\n",
       "    }\n",
       "\n",
       "    .dataframe tbody tr th {\n",
       "        vertical-align: top;\n",
       "    }\n",
       "\n",
       "    .dataframe thead th {\n",
       "        text-align: right;\n",
       "    }\n",
       "</style>\n",
       "<table border=\"1\" class=\"dataframe\">\n",
       "  <thead>\n",
       "    <tr style=\"text-align: right;\">\n",
       "      <th></th>\n",
       "      <th>Global Radiation</th>\n",
       "      <th>Dew Temperature</th>\n",
       "      <th>Relative atmospheric humidity</th>\n",
       "    </tr>\n",
       "  </thead>\n",
       "  <tbody>\n",
       "    <tr>\n",
       "      <th>Temperature</th>\n",
       "      <td>0.539893</td>\n",
       "      <td>0.871065</td>\n",
       "      <td>-0.511679</td>\n",
       "    </tr>\n",
       "  </tbody>\n",
       "</table>\n",
       "</div>"
      ],
      "text/plain": [
       "             Global Radiation  Dew Temperature  Relative atmospheric humidity\n",
       "Temperature          0.539893         0.871065                      -0.511679"
      ]
     },
     "metadata": {},
     "output_type": "display_data"
    },
    {
     "data": {
      "text/html": [
       "<div>\n",
       "<style scoped>\n",
       "    .dataframe tbody tr th:only-of-type {\n",
       "        vertical-align: middle;\n",
       "    }\n",
       "\n",
       "    .dataframe tbody tr th {\n",
       "        vertical-align: top;\n",
       "    }\n",
       "\n",
       "    .dataframe thead th {\n",
       "        text-align: right;\n",
       "    }\n",
       "</style>\n",
       "<table border=\"1\" class=\"dataframe\">\n",
       "  <thead>\n",
       "    <tr style=\"text-align: right;\">\n",
       "      <th></th>\n",
       "      <th>Sunshine duration</th>\n",
       "      <th>Global Radiation</th>\n",
       "      <th>Horizontal visibility</th>\n",
       "    </tr>\n",
       "  </thead>\n",
       "  <tbody>\n",
       "    <tr>\n",
       "      <th>Relative atmospheric humidity</th>\n",
       "      <td>-0.652761</td>\n",
       "      <td>-0.704729</td>\n",
       "      <td>-0.66539</td>\n",
       "    </tr>\n",
       "  </tbody>\n",
       "</table>\n",
       "</div>"
      ],
      "text/plain": [
       "                               Sunshine duration  Global Radiation  \\\n",
       "Relative atmospheric humidity          -0.652761         -0.704729   \n",
       "\n",
       "                               Horizontal visibility  \n",
       "Relative atmospheric humidity               -0.66539  "
      ]
     },
     "metadata": {},
     "output_type": "display_data"
    },
    {
     "data": {
      "text/html": [
       "<div>\n",
       "<style scoped>\n",
       "    .dataframe tbody tr th:only-of-type {\n",
       "        vertical-align: middle;\n",
       "    }\n",
       "\n",
       "    .dataframe tbody tr th {\n",
       "        vertical-align: top;\n",
       "    }\n",
       "\n",
       "    .dataframe thead th {\n",
       "        text-align: right;\n",
       "    }\n",
       "</style>\n",
       "<table border=\"1\" class=\"dataframe\">\n",
       "  <thead>\n",
       "    <tr style=\"text-align: right;\">\n",
       "      <th></th>\n",
       "      <th>Relative atmospheric humidity</th>\n",
       "      <th>Temperature</th>\n",
       "      <th>Sunshine duration</th>\n",
       "    </tr>\n",
       "  </thead>\n",
       "  <tbody>\n",
       "    <tr>\n",
       "      <th>Global Radiation</th>\n",
       "      <td>-0.704729</td>\n",
       "      <td>0.539893</td>\n",
       "      <td>0.781369</td>\n",
       "    </tr>\n",
       "  </tbody>\n",
       "</table>\n",
       "</div>"
      ],
      "text/plain": [
       "                  Relative atmospheric humidity  Temperature  \\\n",
       "Global Radiation                      -0.704729     0.539893   \n",
       "\n",
       "                  Sunshine duration  \n",
       "Global Radiation           0.781369  "
      ]
     },
     "metadata": {},
     "output_type": "display_data"
    },
    {
     "data": {
      "text/html": [
       "<div>\n",
       "<style scoped>\n",
       "    .dataframe tbody tr th:only-of-type {\n",
       "        vertical-align: middle;\n",
       "    }\n",
       "\n",
       "    .dataframe tbody tr th {\n",
       "        vertical-align: top;\n",
       "    }\n",
       "\n",
       "    .dataframe thead th {\n",
       "        text-align: right;\n",
       "    }\n",
       "</style>\n",
       "<table border=\"1\" class=\"dataframe\">\n",
       "  <thead>\n",
       "    <tr style=\"text-align: right;\">\n",
       "      <th></th>\n",
       "      <th>alklimaHeatPump_return_temp</th>\n",
       "      <th>energyHeatpump_power</th>\n",
       "    </tr>\n",
       "  </thead>\n",
       "  <tbody>\n",
       "    <tr>\n",
       "      <th>alklimaHeatPump_flow_temp</th>\n",
       "      <td>0.945847</td>\n",
       "      <td>0.810512</td>\n",
       "    </tr>\n",
       "  </tbody>\n",
       "</table>\n",
       "</div>"
      ],
      "text/plain": [
       "                           alklimaHeatPump_return_temp  energyHeatpump_power\n",
       "alklimaHeatPump_flow_temp                     0.945847              0.810512"
      ]
     },
     "metadata": {},
     "output_type": "display_data"
    },
    {
     "data": {
      "text/html": [
       "<div>\n",
       "<style scoped>\n",
       "    .dataframe tbody tr th:only-of-type {\n",
       "        vertical-align: middle;\n",
       "    }\n",
       "\n",
       "    .dataframe tbody tr th {\n",
       "        vertical-align: top;\n",
       "    }\n",
       "\n",
       "    .dataframe thead th {\n",
       "        text-align: right;\n",
       "    }\n",
       "</style>\n",
       "<table border=\"1\" class=\"dataframe\">\n",
       "  <thead>\n",
       "    <tr style=\"text-align: right;\">\n",
       "      <th></th>\n",
       "      <th>ventilation_outdoor_temp</th>\n",
       "    </tr>\n",
       "  </thead>\n",
       "  <tbody>\n",
       "    <tr>\n",
       "      <th>alklimaHeatPump_op_mode</th>\n",
       "      <td>-0.480052</td>\n",
       "    </tr>\n",
       "  </tbody>\n",
       "</table>\n",
       "</div>"
      ],
      "text/plain": [
       "                         ventilation_outdoor_temp\n",
       "alklimaHeatPump_op_mode                 -0.480052"
      ]
     },
     "metadata": {},
     "output_type": "display_data"
    },
    {
     "data": {
      "text/html": [
       "<div>\n",
       "<style scoped>\n",
       "    .dataframe tbody tr th:only-of-type {\n",
       "        vertical-align: middle;\n",
       "    }\n",
       "\n",
       "    .dataframe tbody tr th {\n",
       "        vertical-align: top;\n",
       "    }\n",
       "\n",
       "    .dataframe thead th {\n",
       "        text-align: right;\n",
       "    }\n",
       "</style>\n",
       "<table border=\"1\" class=\"dataframe\">\n",
       "  <thead>\n",
       "    <tr style=\"text-align: right;\">\n",
       "      <th></th>\n",
       "      <th>ventilation_outdoor_temp</th>\n",
       "      <th>ventilation_room_temp</th>\n",
       "      <th>solar_power</th>\n",
       "    </tr>\n",
       "  </thead>\n",
       "  <tbody>\n",
       "    <tr>\n",
       "      <th>smartMeter_power</th>\n",
       "      <td>-0.536733</td>\n",
       "      <td>-0.373998</td>\n",
       "      <td>0.865713</td>\n",
       "    </tr>\n",
       "  </tbody>\n",
       "</table>\n",
       "</div>"
      ],
      "text/plain": [
       "                  ventilation_outdoor_temp  ventilation_room_temp  solar_power\n",
       "smartMeter_power                 -0.536733              -0.373998     0.865713"
      ]
     },
     "metadata": {},
     "output_type": "display_data"
    },
    {
     "data": {
      "text/html": [
       "<div>\n",
       "<style scoped>\n",
       "    .dataframe tbody tr th:only-of-type {\n",
       "        vertical-align: middle;\n",
       "    }\n",
       "\n",
       "    .dataframe tbody tr th {\n",
       "        vertical-align: top;\n",
       "    }\n",
       "\n",
       "    .dataframe thead th {\n",
       "        text-align: right;\n",
       "    }\n",
       "</style>\n",
       "<table border=\"1\" class=\"dataframe\">\n",
       "  <thead>\n",
       "    <tr style=\"text-align: right;\">\n",
       "      <th></th>\n",
       "      <th>co2sensor_voc</th>\n",
       "    </tr>\n",
       "  </thead>\n",
       "  <tbody>\n",
       "    <tr>\n",
       "      <th>co2sensor_co2</th>\n",
       "      <td>0.442207</td>\n",
       "    </tr>\n",
       "  </tbody>\n",
       "</table>\n",
       "</div>"
      ],
      "text/plain": [
       "               co2sensor_voc\n",
       "co2sensor_co2       0.442207"
      ]
     },
     "metadata": {},
     "output_type": "display_data"
    }
   ],
   "source": [
    "for it in targets:\n",
    "    df = pd.DataFrame()\n",
    "    target = it[\"target\"]\n",
    "    target_label = target[0] if len(target) == 1 else f'{target[0]}_{target[1]}'\n",
    "    for feature in it[\"features\"]:\n",
    "        feature_label = feature[0] if len(feature) == 1 else f'{feature[0]}_{feature[1]}'\n",
    "        if feature_label == target_label:\n",
    "            continue\n",
    "        mat = corr_matrices[it[\"file\"]]\n",
    "        df.loc[(target_label, feature_label)] = mat.loc[(target_label, feature_label)]\n",
    "    display(df)"
   ]
  },
  {
   "cell_type": "code",
   "execution_count": 18,
   "id": "96711038",
   "metadata": {
    "scrolled": false
   },
   "outputs": [
    {
     "data": {
      "image/png": "[encoded data removed]",
      "text/plain": [
       "<Figure size 216x216 with 2 Axes>"
      ]
     },
     "metadata": {
      "needs_background": "light"
     },
     "output_type": "display_data"
    },
    {
     "data": {
      "image/png": "[encoded data removed]",
      "text/plain": [
       "<Figure size 360x360 with 2 Axes>"
      ]
     },
     "metadata": {
      "needs_background": "light"
     },
     "output_type": "display_data"
    }
   ],
   "source": [
    "for key, mat in corr_matrices.items():\n",
    "    plt.figure(figsize=(len(mat.columns) / 2, len(mat.columns) / 2))\n",
    "    sns.heatmap(\n",
    "        mat,\n",
    "        vmin=-1, vmax=1, center=0,\n",
    "        cmap=sns.diverging_palette(220, 20, n=200),\n",
    "        square=True\n",
    "        )\n",
    "    plt.show()"
   ]
  },
  {
   "cell_type": "code",
   "execution_count": null,
   "id": "b977f360",
   "metadata": {},
   "outputs": [],
   "source": []
  }
 ],
 "metadata": {
  "kernelspec": {
   "display_name": "Python 3 (ipykernel)",
   "language": "python",
   "name": "python3"
  },
  "language_info": {
   "codemirror_mode": {
    "name": "ipython",
    "version": 3
   },
   "file_extension": ".py",
   "mimetype": "text/x-python",
   "name": "python",
   "nbconvert_exporter": "python",
   "pygments_lexer": "ipython3",
   "version": "3.8.8"
  }
 },
 "nbformat": 4,
 "nbformat_minor": 5
}
