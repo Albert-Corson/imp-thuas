{
 "cells": [
  {
   "cell_type": "code",
   "execution_count": null,
   "id": "5c9a494f",
   "metadata": {},
   "outputs": [],
   "source": [
    "import sklearn.neighbors._base\n",
    "import sys\n",
    "sys.modules['sklearn.neighbors.base'] = sklearn.neighbors._base\n",
    "from missingpy import MissForest\n",
    "\n",
    "def MissForestImputation(df: pd.DataFrame, config: object) -> Tuple[pd.DataFrame, str]:\n",
    "    imputer = MissForest(max_iter=10, n_estimators=100,\n",
    "             max_depth=None, min_samples_split=2, min_samples_leaf=1,\n",
    "             min_weight_fraction_leaf=0.0, max_features='auto',\n",
    "             max_leaf_nodes=None, min_impurity_decrease=0.0,\n",
    "             bootstrap=True, oob_score=False, n_jobs=-1, random_state=None,\n",
    "             verbose=0, warm_start=False, class_weight=None)\n",
    "    data = imputer.fit_transform(df)\n",
    "    imputed_df = pd.DataFrame(data=data, columns=df.columns.tolist())\n",
    "    imputed_df = imputed_df.set_index(df.index)\n",
    "    return imputed_df, None\n"
   ]
  }
 ],
 "metadata": {
  "kernelspec": {
   "display_name": "Python 3 (ipykernel)",
   "language": "python",
   "name": "python3"
  },
  "language_info": {
   "codemirror_mode": {
    "name": "ipython",
    "version": 3
   },
   "file_extension": ".py",
   "mimetype": "text/x-python",
   "name": "python",
   "nbconvert_exporter": "python",
   "pygments_lexer": "ipython3",
   "version": "3.8.8"
  }
 },
 "nbformat": 4,
 "nbformat_minor": 5
}
