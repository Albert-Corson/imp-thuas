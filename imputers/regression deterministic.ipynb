{
 "cells": [
  {
   "cell_type": "code",
   "execution_count": null,
   "metadata": {
    "collapsed": true
   },
   "outputs": [],
   "source": [
    "from ipywidgets.widgets import HTML\n",
    "from sklearn.linear_model import LinearRegression\n",
    "import numpy as np\n",
    "import missingno as mno\n",
    "\n",
    "\n",
    "#REFERENCE: https://www.kaggle.com/shashankasubrahmanya/missing-data-imputation-using-regression\n",
    "\n",
    "def deterministic_regression(df: pd.DataFrame, columns_to_impute: list, stochastic_reg=False) -> Tuple[pd.DataFrame, str]:\n",
    "    \"\"\"\n",
    "    Imputation by linear regession (deterministic) using SKlearn.\n",
    "    Only use on numerical non ordinal data such as categories.\n",
    "    Also do specify the columns that you want to impute in the columns_to_impute parameter.\n",
    "\n",
    "    Difference with Stochastic: deterministic provides thew same result/output for a certain set of inputs whereas stochastic takes randomness in to account.\n",
    "    \"\"\"\n",
    "\n",
    "    def random_imputation(df: pd.DataFrame, feature) -> pd.DataFrame:\n",
    "        \"\"\"Helper method for the regression imputation methods, not actually used for imputation on its own but serves as starting point for regression models\"\"\"\n",
    "        number_missing = df[feature].isnull().sum()\n",
    "        observed_values = df.loc[df[feature].notnull(), feature]\n",
    "        df.loc[df[feature].isnull(), feature + '_imp'] = np.random.choice(observed_values, number_missing, replace=True)\n",
    "        return df\n",
    "\n",
    "    for feature in columns_to_impute:\n",
    "        df[feature + '_imp'] = df[feature]\n",
    "        df = random_imputation(df, feature)\n",
    "\n",
    "    deter_data = pd.DataFrame(columns=[\"Det\" + name for name in columns_to_impute])\n",
    "\n",
    "    for feature in columns_to_impute:\n",
    "        deter_data[\"Det\" + feature] = df[feature + \"_imp\"]\n",
    "        parameters = list(set(df.columns) - set(columns_to_impute) - {feature + \"_imp\"})\n",
    "\n",
    "        dreg_model = LinearRegression()\n",
    "        dreg_model.fit(X=df[parameters], y=df[feature + \"_imp\"])\n",
    "\n",
    "        deter_data.loc[df[feature].isnull(), \"Det\" + feature] = dreg_model.predict(df[parameters])[df[feature].isnull()]\n",
    "    if stochastic_reg == False:\n",
    "        for feature in columns_to_impute:\n",
    "            df[feature] = deter_data[\"Det\" + feature]\n",
    "            df.rename(columns={\"Det\" + feature: feature})\n",
    "            df = df.drop(columns=[feature + \"_imp\"], axis=1)\n",
    "    return df, None"
   ]
  }
 ],
 "metadata": {
  "kernelspec": {
   "display_name": "Python 3 (ipykernel)",
   "language": "python",
   "name": "python3"
  },
  "language_info": {
   "codemirror_mode": {
    "name": "ipython",
    "version": 3
   },
   "file_extension": ".py",
   "mimetype": "text/x-python",
   "name": "python",
   "nbconvert_exporter": "python",
   "pygments_lexer": "ipython3",
   "version": "3.8.8"
  }
 },
 "nbformat": 4,
 "nbformat_minor": 1
}
