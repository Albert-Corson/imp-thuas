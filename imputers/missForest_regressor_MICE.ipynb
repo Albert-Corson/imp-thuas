{
 "cells": [
  {
   "cell_type": "code",
   "execution_count": null,
   "metadata": {
    "collapsed": true
   },
   "outputs": [],
   "source": [
    "\n",
    "from sklearn.ensemble import ExtraTreesRegressor\n",
    "from sklearn.experimental import enable_iterative_imputer\n",
    "from sklearn.impute import IterativeImputer\n",
    "import pandas as pd\n",
    "\n",
    "def ExtraTreesRegressor_MICE(df:pd.DataFrame,config:object)->Tuple[pd.DataFrame,str]:\n",
    "    imputer = IterativeImputer(estimator=ExtraTreesRegressor(n_estimators=100,random_state=42),max_iter=10,initial_strategy='median',imputation_order='ascending')\n",
    "    data = imputer.fit_transform(df)\n",
    "    return pd.DataFrame(data, columns=df.columns, index=df.index), None"
   ]
  }
 ],
 "metadata": {
  "kernelspec": {
   "display_name": "Python 3 (ipykernel)",
   "language": "python",
   "name": "python3"
  },
  "language_info": {
   "codemirror_mode": {
    "name": "ipython",
    "version": 3
   },
   "file_extension": ".py",
   "mimetype": "text/x-python",
   "name": "python",
   "nbconvert_exporter": "python",
   "pygments_lexer": "ipython3",
   "version": "3.8.8"
  }
 },
 "nbformat": 4,
 "nbformat_minor": 1
}
