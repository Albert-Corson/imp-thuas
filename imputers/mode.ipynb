{
 "cells": [
  {
   "cell_type": "code",
   "execution_count": null,
   "id": "18d45a3f",
   "metadata": {},
   "outputs": [],
   "source": [
    "import pandas as pd\n",
    "from ipywidgets.widgets import HTML\n",
    "\n",
    "\n",
    "def mode_imputation(df: pd.DataFrame, config: object, custom_progress_status: HTML) -> pd.DataFrame:\n",
    "    imputed_df = df.copy()\n",
    "    for field in imputed_df.columns:\n",
    "        imputed_df[field] = imputed_df[field].fillna(imputed_df[field].mode()[0])\n",
    "    return imputed_df\n"
   ]
  }
 ],
 "metadata": {
  "kernelspec": {
   "display_name": "Python 3 (ipykernel)",
   "language": "python",
   "name": "python3"
  },
  "language_info": {
   "codemirror_mode": {
    "name": "ipython",
    "version": 3
   },
   "file_extension": ".py",
   "mimetype": "text/x-python",
   "name": "python",
   "nbconvert_exporter": "python",
   "pygments_lexer": "ipython3",
   "version": "3.8.10"
  }
 },
 "nbformat": 4,
 "nbformat_minor": 5
}
