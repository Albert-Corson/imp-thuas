{
 "cells": [
  {
   "cell_type": "code",
   "execution_count": null,
   "id": "18d45a3f",
   "metadata": {},
   "outputs": [],
   "source": [
    "import pandas as pd\n",
    "\n",
    "\n",
    "def mode_imputation(df: pd.DataFrame, config: object) -> pd.DataFrame:\n",
    "    global dfloader\n",
    "    imputed_df = df.copy()\n",
    "    for target in dfloader.targets:\n",
    "        imputed_df[target].fillna(imputed_df[target].mode()[0], inplace=True)\n",
    "    return imputed_df\n"
   ]
  }
 ],
 "metadata": {
  "kernelspec": {
   "display_name": "Python 3 (ipykernel)",
   "language": "python",
   "name": "python3"
  },
  "language_info": {
   "codemirror_mode": {
    "name": "ipython",
    "version": 3
   },
   "file_extension": ".py",
   "mimetype": "text/x-python",
   "name": "python",
   "nbconvert_exporter": "python",
   "pygments_lexer": "ipython3",
   "version": "3.8.10"
  }
 },
 "nbformat": 4,
 "nbformat_minor": 5
}
