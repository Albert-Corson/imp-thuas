{
 "cells": [
  {
   "cell_type": "code",
   "execution_count": null,
   "id": "1671627e",
   "metadata": {},
   "outputs": [],
   "source": [
    "from sklearn.impute import KNNImputer\n",
    "\n",
    "\n",
    "def KNNImputation(df: pd.DataFrame, config: object) -> Tuple[pd.DataFrame, str]:\n",
    "    headers = df.columns.tolist()\n",
    "    imputer = KNNImputer(n_neighbors=2)  # The default is 5\n",
    "    data = imputer.fit_transform(df)\n",
    "    imputed_df = pd.DataFrame(data=data, columns=headers)\n",
    "    imputed_df = imputed_df.set_index(df.index)\n",
    "    return imputed_df, None\n"
   ]
  }
 ],
 "metadata": {
  "kernelspec": {
   "display_name": "Python 3 (ipykernel)",
   "language": "python",
   "name": "python3"
  },
  "language_info": {
   "codemirror_mode": {
    "name": "ipython",
    "version": 3
   },
   "file_extension": ".py",
   "mimetype": "text/x-python",
   "name": "python",
   "nbconvert_exporter": "python",
   "pygments_lexer": "ipython3",
   "version": "3.8.8"
  }
 },
 "nbformat": 4,
 "nbformat_minor": 5
}
