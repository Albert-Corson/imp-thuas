{
 "cells": [
  {
   "cell_type": "code",
   "execution_count": null,
   "id": "a9751cd9",
   "metadata": {},
   "outputs": [],
   "source": [
    "import pandas as pd\n",
    "\n",
    "def forward_fill(df:pd.DataFrame,config:object)-> Tuple[pd.DataFrame,str]:\n",
    "    \"\"\"Forward filling Last Observation Carried Forward LOCF by pandas.fillna\"\"\"\n",
    "    return df.fillna(method='ffill'), None\n"
   ]
  }
 ],
 "metadata": {
  "kernelspec": {
   "display_name": "Python 3 (ipykernel)",
   "language": "python",
   "name": "python3"
  },
  "language_info": {
   "codemirror_mode": {
    "name": "ipython",
    "version": 3
   },
   "file_extension": ".py",
   "mimetype": "text/x-python",
   "name": "python",
   "nbconvert_exporter": "python",
   "pygments_lexer": "ipython3",
   "version": "3.8.8"
  }
 },
 "nbformat": 4,
 "nbformat_minor": 5
}
