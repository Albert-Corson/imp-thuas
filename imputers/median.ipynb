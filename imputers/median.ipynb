{
 "cells": [
  {
   "cell_type": "code",
   "execution_count": null,
   "id": "36ff5f31",
   "metadata": {},
   "outputs": [],
   "source": [
    "import pandas as pd\n",
    "\n",
    "\n",
    "def median_imputation(df: pd.DataFrame, config: object) -> pd.DataFrame:\n",
    "    \"\"\"\"Imputation by using median for each individual feature.\"\"\"\n",
    "    imputed_df = df.copy()\n",
    "    for field in imputed_df.columns:\n",
    "        imputed_df[field] = imputed_df[field].fillna(imputed_df[field].median())\n",
    "    return imputed_df\n"
   ]
  }
 ],
 "metadata": {
  "kernelspec": {
   "display_name": "Python 3 (ipykernel)",
   "language": "python",
   "name": "python3"
  },
  "language_info": {
   "codemirror_mode": {
    "name": "ipython",
    "version": 3
   },
   "file_extension": ".py",
   "mimetype": "text/x-python",
   "name": "python",
   "nbconvert_exporter": "python",
   "pygments_lexer": "ipython3",
   "version": "3.8.10"
  }
 },
 "nbformat": 4,
 "nbformat_minor": 5
}