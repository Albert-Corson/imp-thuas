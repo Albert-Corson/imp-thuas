{
 "cells": [
  {
   "cell_type": "code",
   "execution_count": null,
   "id": "53700ad1",
   "metadata": {
    "collapsed": true
   },
   "outputs": [],
   "source": [
    "import pandas as pd\n",
    "def linear_interpolation(df:pd.DataFrame,config:object)->Tuple[pd.DataFrame,str]:\n",
    "    \"\"\"Simple linear interpolation powered by pandas.interpolate\"\"\"\n",
    "    return df.interpolate(method='linear'), None"
   ]
  }
 ],
 "metadata": {
  "kernelspec": {
   "display_name": "Python 3 (ipykernel)",
   "language": "python",
   "name": "python3"
  },
  "language_info": {
   "codemirror_mode": {
    "name": "ipython",
    "version": 3
   },
   "file_extension": ".py",
   "mimetype": "text/x-python",
   "name": "python",
   "nbconvert_exporter": "python",
   "pygments_lexer": "ipython3",
   "version": "3.8.8"
  }
 },
 "nbformat": 4,
 "nbformat_minor": 5
}
