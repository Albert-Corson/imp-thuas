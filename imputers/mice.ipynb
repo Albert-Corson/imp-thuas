{
 "cells": [
  {
   "cell_type": "code",
   "execution_count": null,
   "id": "80252af4",
   "metadata": {},
   "outputs": [],
   "source": [
    "from fancyimpute import IterativeImputer\n",
    "\n",
    "def mice(df: pd.DataFrame, config: object) -> Tuple[pd.DataFrame, str]:\n",
    "    global dfloader\n",
    "    mice_imputer = IterativeImputer()\n",
    "    data = mice_imputer.fit_transform(df)\n",
    "    return pd.DataFrame(data, columns=df.columns, index=df.index), None\n"
   ]
  }
 ],
 "metadata": {
  "kernelspec": {
   "display_name": "Python 3 (ipykernel)",
   "language": "python",
   "name": "python3"
  },
  "language_info": {
   "codemirror_mode": {
    "name": "ipython",
    "version": 3
   },
   "file_extension": ".py",
   "mimetype": "text/x-python",
   "name": "python",
   "nbconvert_exporter": "python",
   "pygments_lexer": "ipython3",
   "version": "3.8.8"
  }
 },
 "nbformat": 4,
 "nbformat_minor": 5
}
