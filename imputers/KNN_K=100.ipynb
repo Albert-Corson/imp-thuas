{
 "cells": [
  {
   "cell_type": "code",
   "execution_count": null,
   "metadata": {
    "collapsed": true
   },
   "outputs": [],
   "source": [
    "import numpy as np\n",
    "import pandas as pd\n",
    "from sklearn.impute import KNNImputer\n",
    "import math\n",
    "\n",
    "def KNN_100(df:pd.DataFrame,config:object)->Tuple[pd.DataFrame,str]:\n",
    "    n_neighbors = 100\n",
    "    gap_indices = config[\"current_gap_indices\"]\n",
    "    imputer = KNNImputer(n_neighbors=n_neighbors, weights='distance')\n",
    "    receiver = df.copy()\n",
    "    surrounding_size =  int((n_neighbors + (n_neighbors % 2)) / 2)\n",
    "    for gap in gap_indices:\n",
    "        start = receiver.index.get_loc(gap[0])\n",
    "        start = max(0, start - surrounding_size)\n",
    "        end = receiver.index.get_loc(gap[-1])\n",
    "        end = min(len(receiver.index) - 1, end + surrounding_size)\n",
    "        view = receiver.iloc[start:end]\n",
    "        data = imputer.fit_transform(view)\n",
    "        for idx, dt in enumerate(view.index):\n",
    "            receiver.loc[dt] = data[idx]\n",
    "    return receiver, None"
   ]
  }
 ],
 "metadata": {
  "kernelspec": {
   "display_name": "Python 3 (ipykernel)",
   "language": "python",
   "name": "python3"
  },
  "language_info": {
   "codemirror_mode": {
    "name": "ipython",
    "version": 3
   },
   "file_extension": ".py",
   "mimetype": "text/x-python",
   "name": "python",
   "nbconvert_exporter": "python",
   "pygments_lexer": "ipython3",
   "version": "3.8.8"
  }
 },
 "nbformat": 4,
 "nbformat_minor": 1
}
