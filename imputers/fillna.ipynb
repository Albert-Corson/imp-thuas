{
 "cells": [
  {
   "cell_type": "code",
   "execution_count": null,
   "id": "d1ee1b26",
   "metadata": {},
   "outputs": [],
   "source": [
    "import pandas as pd\n",
    "\n",
    "def fillna(df: pd.DataFrame, config: object) -> Tuple[pd.DataFrame, str]:\n",
    "    imputed_df = df.fillna(method='bfill')\n",
    "    return imputed_df, None"
   ]
  },
  {
   "cell_type": "code",
   "execution_count": null,
   "id": "0f55eb3f",
   "metadata": {},
   "outputs": [],
   "source": []
  }
 ],
 "metadata": {
  "kernelspec": {
   "display_name": "Python 3 (ipykernel)",
   "language": "python",
   "name": "python3"
  },
  "language_info": {
   "codemirror_mode": {
    "name": "ipython",
    "version": 3
   },
   "file_extension": ".py",
   "mimetype": "text/x-python",
   "name": "python",
   "nbconvert_exporter": "python",
   "pygments_lexer": "ipython3",
   "version": "3.8.8"
  }
 },
 "nbformat": 4,
 "nbformat_minor": 5
}
