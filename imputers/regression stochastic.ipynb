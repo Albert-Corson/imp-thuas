{
 "cells": [
  {
   "cell_type": "code",
   "execution_count": null,
   "metadata": {
    "collapsed": true
   },
   "outputs": [],
   "source": [
    "import pandas as pd\n",
    "from ipywidgets.widgets import HTML\n",
    "from sklearn.linear_model import LinearRegression\n",
    "import numpy as np\n",
    "\n",
    "#REFERENCE: https://www.kaggle.com/shashankasubrahmanya/missing-data-imputation-using-regression\n",
    "def stochastic_regression(df: pd.DataFrame,columns_to_impute: list, config: object,custom_progess_status: HTML) -> pd.DataFrame:\n",
    "     \"\"\"\"\n",
    "    Imputation by linear regession (Stochastic) using SKlearn.\n",
    "    Only use on numerical non ordinal data such as categories.\n",
    "    Also do specify the columns that you want to impute in the columns_to_impute parameter.\n",
    "\n",
    "    Difference with deterministic is that stochastic takes randomness/uncertainty in to account accoring to standard deviation\n",
    "    \"\"\"\n",
    "     random_data = pd.DataFrame(columns=[\"Ran\" + name for name in columns_to_impute])\n",
    "\n",
    "     for feature in columns_to_impute:\n",
    "         random_data[\"Ran\" + feature] = df[feature+\"_imp\"]\n",
    "         parameters = list(set(df.columns)-set(columns_to_impute) - {feature +  \"_imp\"})\n",
    "\n",
    "         sreg_model = LinearRegression()\n",
    "         sreg_model.fit(X = df[parameters], y = df[feature + '_imp'])\n",
    "\n",
    "         predict = sreg_model.predict(df[parameters])\n",
    "         std_error = (predict[df[feature].notnull()] - df.loc[df[feature].notnull(), feature + \"_imp\"]).std()\n",
    "\n",
    "         random_predict = np.random.normal(size = df[feature].shape[0], loc = predict,scale=std_error)\n",
    "         random_data.loc[(df[feature].isnull()) & (random_predict > 0), \"Ran\" + feature] = random_predict[(df[feature].isnull()) &\n",
    "                                                                                                          (random_predict > 0)]\n",
    "        #DOESNT WORK YET! + NEEDS TO RETURN A DF"
   ]
  }
 ],
 "metadata": {
  "kernelspec": {
   "display_name": "Python 3",
   "language": "python",
   "name": "python3"
  },
  "language_info": {
   "codemirror_mode": {
    "name": "ipython",
    "version": 2
   },
   "file_extension": ".py",
   "mimetype": "text/x-python",
   "name": "python",
   "nbconvert_exporter": "python",
   "pygments_lexer": "ipython2",
   "version": "2.7.6"
  }
 },
 "nbformat": 4,
 "nbformat_minor": 0
}