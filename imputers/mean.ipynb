{
 "cells": [
  {
   "cell_type": "code",
   "execution_count": null,
   "id": "987adcd3",
   "metadata": {},
   "outputs": [],
   "source": [
    "import pandas as pd\n",
    "\n",
    "\n",
    "def mean_imputation(df: pd.DataFrame, config: object) -> pd.DataFrame:\n",
    "    \"\"\"\"Imputation by using mean for each individual feature.\"\"\"\n",
    "    imputed_df = df.copy()\n",
    "    for field in imputed_df.columns:\n",
    "        mean = round(imputed_df[field].mean())\n",
    "        imputed_df[field] = imputed_df[field].fillna(mean)\n",
    "    return imputed_df\n"
   ]
  }
 ],
 "metadata": {
  "kernelspec": {
   "display_name": "Python 3 (ipykernel)",
   "language": "python",
   "name": "python3"
  },
  "language_info": {
   "codemirror_mode": {
    "name": "ipython",
    "version": 3
   },
   "file_extension": ".py",
   "mimetype": "text/x-python",
   "name": "python",
   "nbconvert_exporter": "python",
   "pygments_lexer": "ipython3",
   "version": "3.8.10"
  }
 },
 "nbformat": 4,
 "nbformat_minor": 5
}