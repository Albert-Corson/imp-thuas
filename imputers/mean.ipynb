{
 "cells": [
  {
   "cell_type": "code",
   "execution_count": null,
   "id": "987adcd3",
   "metadata": {},
   "outputs": [],
   "source": [
    "import pandas as pd\n",
    "\n",
    "\n",
    "def mean_imputation(df: pd.DataFrame, config: object) -> pd.DataFrame:\n",
    "    global dfloader\n",
    "    imputed_df = df.copy()\n",
    "    for target in dfloader.targets:\n",
    "        imputed_df[target].fillna(imputed_df[target].mean(), inplace=True)\n",
    "    return imputed_df\n"
   ]
  }
 ],
 "metadata": {
  "kernelspec": {
   "display_name": "Python 3 (ipykernel)",
   "language": "python",
   "name": "python3"
  },
  "language_info": {
   "codemirror_mode": {
    "name": "ipython",
    "version": 3
   },
   "file_extension": ".py",
   "mimetype": "text/x-python",
   "name": "python",
   "nbconvert_exporter": "python",
   "pygments_lexer": "ipython3",
   "version": "3.8.8"
  }
 },
 "nbformat": 4,
 "nbformat_minor": 5
}
