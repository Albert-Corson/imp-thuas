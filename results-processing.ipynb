{
 "cells": [
  {
   "cell_type": "code",
   "execution_count": 57,
   "id": "c354a672",
   "metadata": {},
   "outputs": [],
   "source": [
    "import pandas as pd\n",
    "\n",
    "df = pd.read_csv(\"saved_results/Results.csv\", sep=';')\n",
    "new_df = pd.DataFrame()\n",
    "\n",
    "for i, title in enumerate(csv['Unnamed: 0']):\n",
    "    method, target, gap_type, date = title.split(' - ')\n",
    "    sheet = None\n",
    "    column = None\n",
    "    if '_' in target:\n",
    "        sheet, column = target.split('_', 1)\n",
    "    else:\n",
    "        column = target\n",
    "    new_df.at[i,'method'] = method\n",
    "    new_df.at[i,'sheet'] = sheet\n",
    "    new_df.at[i,'column'] = column\n",
    "    new_df.at[i,'gap type'] = gap_type\n",
    "    new_df.at[i,'date'] = date\n",
    "\n",
    "for column in df.columns:\n",
    "    new_df[column] = df[column]\n",
    "\n",
    "new_df.drop(columns=['Unnamed: 0'], inplace=True)\n",
    "new_df\n",
    "new_df.to_csv('Results-split.csv', sep=';')"
   ]
  },
  {
   "cell_type": "code",
   "execution_count": null,
   "id": "1d788acb",
   "metadata": {},
   "outputs": [],
   "source": []
  }
 ],
 "metadata": {
  "kernelspec": {
   "display_name": "Python 3 (ipykernel)",
   "language": "python",
   "name": "python3"
  },
  "language_info": {
   "codemirror_mode": {
    "name": "ipython",
    "version": 3
   },
   "file_extension": ".py",
   "mimetype": "text/x-python",
   "name": "python",
   "nbconvert_exporter": "python",
   "pygments_lexer": "ipython3",
   "version": "3.8.8"
  }
 },
 "nbformat": 4,
 "nbformat_minor": 5
}
