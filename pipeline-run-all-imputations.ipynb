{
 "cells": [
  {
   "cell_type": "markdown",
   "id": "b28088a3",
   "metadata": {},
   "source": [
    "# Pipeline\n",
    "\n",
    "This pipeline is intended to simplify to whole process of loading a dataset, creating gaps of different types in it, imputing the missing data and evaluating the imputation method.\n",
    "You may want to edit the cells preceded by an <span style=\"color: red\">**EDIT:**</span> sign to fit your needs.\n",
    "\n",
    "## Install dependencies"
   ]
  },
  {
   "cell_type": "code",
   "execution_count": null,
   "id": "4746a805",
   "metadata": {
    "scrolled": false,
    "tags": [
     "hide_output"
    ]
   },
   "outputs": [],
   "source": [
    "!pip install openpyxl > /dev/null 2>&1\n",
    "!pip install jupyterlab-widgets > /dev/null 2>&1\n",
    "!pip install jsfileupload > /dev/null 2>&1\n",
    "!pip install pyxlsb > /dev/null 2>&1\n",
    "!pip install sklearn > /dev/null 2>&1\n",
    "!pip install scipy > /dev/null 2>&1\n",
    "!pip install scikit_learn > /dev/null 2>&1\n",
    "!pip install missingpy > /dev/null 2>&1\n",
    "!pip install fancyimpute > /dev/null 2>&1"
   ]
  },
  {
   "cell_type": "markdown",
   "id": "ef0ed199",
   "metadata": {},
   "source": [
    "## Run the imputations"
   ]
  },
  {
   "cell_type": "code",
   "execution_count": 1,
   "id": "47757cbb",
   "metadata": {
    "scrolled": false
   },
   "outputs": [
    {
     "data": {
      "application/vnd.jupyter.widget-view+json": {
       "model_id": "3d043e05ea394bedb8e03af681e46e51",
       "version_major": 2,
       "version_minor": 0
      },
      "text/plain": [
       "Dropdown(description='Config:', options=('factory zero', 'knmi'), value='factory zero')"
      ]
     },
     "metadata": {},
     "output_type": "display_data"
    },
    {
     "data": {
      "application/vnd.jupyter.widget-view+json": {
       "model_id": "386041bdc93f4effa78f091a95804f99",
       "version_major": 2,
       "version_minor": 0
      },
      "text/plain": [
       "Tab(children=(VBox(children=(HTML(value='Uploaded file selector:'), HBox(children=(Dropdown(options=('021.xlsx…"
      ]
     },
     "metadata": {},
     "output_type": "display_data"
    },
    {
     "data": {
      "application/vnd.jupyter.widget-view+json": {
       "model_id": "ab67df67d85148cca969beb0c334b102",
       "version_major": 2,
       "version_minor": 0
      },
      "text/plain": [
       "Tab(children=(VBox(children=(VBox(children=(HTML(value='Columns type:'), RadioButtons(options=('features', 'ta…"
      ]
     },
     "metadata": {},
     "output_type": "display_data"
    },
    {
     "data": {
      "application/vnd.jupyter.widget-view+json": {
       "model_id": "e2112eb7ef0b454289251c7b405ed92a",
       "version_major": 2,
       "version_minor": 0
      },
      "text/plain": [
       "HTML(value='')"
      ]
     },
     "metadata": {},
     "output_type": "display_data"
    },
    {
     "data": {
      "application/vnd.jupyter.widget-view+json": {
       "model_id": "aad003e348f44d8893fff4da58ce4061",
       "version_major": 2,
       "version_minor": 0
      },
      "text/plain": [
       "Dropdown(description='Imputer:', options=('median imputation', 'mode imputation', 'mean imputation', 'fillna',…"
      ]
     },
     "metadata": {},
     "output_type": "display_data"
    },
    {
     "data": {
      "application/vnd.jupyter.widget-view+json": {
       "model_id": "fbb7f67e5e10430c87af36789b980c3a",
       "version_major": 2,
       "version_minor": 0
      },
      "text/plain": [
       "HTML(value='')"
      ]
     },
     "metadata": {},
     "output_type": "display_data"
    },
    {
     "name": "stdout",
     "output_type": "stream",
     "text": [
      "Done running median imputation on Relative atmospheric humidity\n",
      "Done running mode imputation on Relative atmospheric humidity\n",
      "Done running mean imputation on Relative atmospheric humidity\n",
      "Done running linear_interpolation on Relative atmospheric humidity\n",
      "Done running forward_fill on Relative atmospheric humidity\n"
     ]
    },
    {
     "data": {
      "application/vnd.jupyter.widget-view+json": {
       "model_id": "a4de8347eb7c4a95af6ab67f9c9f8981",
       "version_major": 2,
       "version_minor": 0
      },
      "text/plain": [
       "SelectMultiple(description='Select donors: ', options=('209 IJmond.csv', '215 Voorschoten.csv', '225 IJmuiden.…"
      ]
     },
     "metadata": {},
     "output_type": "display_data"
    },
    {
     "data": {
      "application/vnd.jupyter.widget-view+json": {
       "model_id": "",
       "version_major": 2,
       "version_minor": 0
      },
      "text/plain": [
       "Button(description='Confirm selection', style=ButtonStyle())"
      ]
     },
     "metadata": {},
     "output_type": "display_data"
    },
    {
     "data": {
      "application/vnd.jupyter.widget-view+json": {
       "model_id": "01fbae9a826047eea628e482a37838d1",
       "version_major": 2,
       "version_minor": 0
      },
      "text/plain": [
       "HTML(value='')"
      ]
     },
     "metadata": {},
     "output_type": "display_data"
    },
    {
     "data": {
      "application/vnd.jupyter.widget-view+json": {
       "model_id": "81fdbda5ecd64909abed69ecba67b9b4",
       "version_major": 2,
       "version_minor": 0
      },
      "text/plain": [
       "IntProgress(value=0, max=1349)"
      ]
     },
     "metadata": {},
     "output_type": "display_data"
    },
    {
     "data": {
      "application/vnd.jupyter.widget-view+json": {
       "model_id": "9ccf0516ea7f422fabefd2af4103204e",
       "version_major": 2,
       "version_minor": 0
      },
      "text/plain": [
       "HTML(value='')"
      ]
     },
     "metadata": {},
     "output_type": "display_data"
    },
    {
     "data": {
      "application/vnd.jupyter.widget-view+json": {
       "model_id": "a10955c5b6704cf2b590d77d8937dbd5",
       "version_major": 2,
       "version_minor": 0
      },
      "text/plain": [
       "IntProgress(value=0, max=407)"
      ]
     },
     "metadata": {},
     "output_type": "display_data"
    },
    {
     "data": {
      "application/vnd.jupyter.widget-view+json": {
       "model_id": "2eb5ffaec1c646c59793e34cc68d8152",
       "version_major": 2,
       "version_minor": 0
      },
      "text/plain": [
       "HTML(value='')"
      ]
     },
     "metadata": {},
     "output_type": "display_data"
    },
    {
     "data": {
      "application/vnd.jupyter.widget-view+json": {
       "model_id": "fe6eee33b81f449eb6a452f5b7159a4e",
       "version_major": 2,
       "version_minor": 0
      },
      "text/plain": [
       "IntProgress(value=0, max=136)"
      ]
     },
     "metadata": {},
     "output_type": "display_data"
    },
    {
     "data": {
      "application/vnd.jupyter.widget-view+json": {
       "model_id": "6f75d54b8cb64f9e8206350dafb7d8c0",
       "version_major": 2,
       "version_minor": 0
      },
      "text/plain": [
       "HTML(value='')"
      ]
     },
     "metadata": {},
     "output_type": "display_data"
    },
    {
     "data": {
      "application/vnd.jupyter.widget-view+json": {
       "model_id": "6fad0d4a0bf64988bbe19cd1493710e3",
       "version_major": 2,
       "version_minor": 0
      },
      "text/plain": [
       "IntProgress(value=0, max=53)"
      ]
     },
     "metadata": {},
     "output_type": "display_data"
    },
    {
     "name": "stdout",
     "output_type": "stream",
     "text": [
      "Done running Hot deck on Relative atmospheric humidity\n",
      "Done running KNN k=1 on Relative atmospheric humidity\n",
      "Done running KNN k=5 on Relative atmospheric humidity\n",
      "Done running KNN k=10 on Relative atmospheric humidity\n",
      "Done running KNN k=15 on Relative atmospheric humidity\n",
      "Done running KNN k=20 on Relative atmospheric humidity\n",
      "Done running KNN k=100 on Relative atmospheric humidity\n"
     ]
    },
    {
     "data": {
      "application/vnd.jupyter.widget-view+json": {
       "model_id": "502524f615a047ee906cf4897080d29a",
       "version_major": 2,
       "version_minor": 0
      },
      "text/plain": [
       "Dropdown(description='Config:', options=('factory zero', 'knmi'), value='factory zero')"
      ]
     },
     "metadata": {},
     "output_type": "display_data"
    },
    {
     "data": {
      "application/vnd.jupyter.widget-view+json": {
       "model_id": "244383b42287404c8d6c844e20ed6ed4",
       "version_major": 2,
       "version_minor": 0
      },
      "text/plain": [
       "Tab(children=(VBox(children=(HTML(value='Uploaded file selector:'), HBox(children=(Dropdown(options=('021.xlsx…"
      ]
     },
     "metadata": {},
     "output_type": "display_data"
    },
    {
     "data": {
      "application/vnd.jupyter.widget-view+json": {
       "model_id": "3b629dedb88f41c79b255ea9a79ed809",
       "version_major": 2,
       "version_minor": 0
      },
      "text/plain": [
       "Tab(children=(VBox(children=(VBox(children=(HTML(value='Columns type:'), RadioButtons(options=('features', 'ta…"
      ]
     },
     "metadata": {},
     "output_type": "display_data"
    },
    {
     "data": {
      "application/vnd.jupyter.widget-view+json": {
       "model_id": "f646556da67b4830985326e9dfd5857f",
       "version_major": 2,
       "version_minor": 0
      },
      "text/plain": [
       "HTML(value='')"
      ]
     },
     "metadata": {},
     "output_type": "display_data"
    },
    {
     "data": {
      "application/vnd.jupyter.widget-view+json": {
       "model_id": "25347f8600d6445ba47bcfbbfbbc5f48",
       "version_major": 2,
       "version_minor": 0
      },
      "text/plain": [
       "Dropdown(description='Imputer:', options=('median imputation', 'mode imputation', 'mean imputation', 'fillna',…"
      ]
     },
     "metadata": {},
     "output_type": "display_data"
    },
    {
     "data": {
      "application/vnd.jupyter.widget-view+json": {
       "model_id": "e05e7bec42ee4a1698d085851a8ba0b7",
       "version_major": 2,
       "version_minor": 0
      },
      "text/plain": [
       "HTML(value='')"
      ]
     },
     "metadata": {},
     "output_type": "display_data"
    },
    {
     "name": "stdout",
     "output_type": "stream",
     "text": [
      "Done running median imputation on Global Radiation\n",
      "Done running mode imputation on Global Radiation\n",
      "Done running mean imputation on Global Radiation\n",
      "Done running linear_interpolation on Global Radiation\n",
      "Done running forward_fill on Global Radiation\n"
     ]
    },
    {
     "data": {
      "application/vnd.jupyter.widget-view+json": {
       "model_id": "441bd963b1574e0fa3178640908eb9f3",
       "version_major": 2,
       "version_minor": 0
      },
      "text/plain": [
       "SelectMultiple(description='Select donors: ', options=('209 IJmond.csv', '215 Voorschoten.csv', '225 IJmuiden.…"
      ]
     },
     "metadata": {},
     "output_type": "display_data"
    },
    {
     "data": {
      "application/vnd.jupyter.widget-view+json": {
       "model_id": "",
       "version_major": 2,
       "version_minor": 0
      },
      "text/plain": [
       "Button(description='Confirm selection', style=ButtonStyle())"
      ]
     },
     "metadata": {},
     "output_type": "display_data"
    },
    {
     "data": {
      "application/vnd.jupyter.widget-view+json": {
       "model_id": "266e691d54b94fc882643b842cf3b77c",
       "version_major": 2,
       "version_minor": 0
      },
      "text/plain": [
       "HTML(value='')"
      ]
     },
     "metadata": {},
     "output_type": "display_data"
    },
    {
     "data": {
      "application/vnd.jupyter.widget-view+json": {
       "model_id": "aa6f4918400a4deb990778fd4bb4568f",
       "version_major": 2,
       "version_minor": 0
      },
      "text/plain": [
       "IntProgress(value=0, max=1349)"
      ]
     },
     "metadata": {},
     "output_type": "display_data"
    },
    {
     "data": {
      "application/vnd.jupyter.widget-view+json": {
       "model_id": "ff2e7d5efcdf4e489d1c719635eda6b3",
       "version_major": 2,
       "version_minor": 0
      },
      "text/plain": [
       "HTML(value='')"
      ]
     },
     "metadata": {},
     "output_type": "display_data"
    },
    {
     "data": {
      "application/vnd.jupyter.widget-view+json": {
       "model_id": "08e5d8fb8fa74f3094b1fa4e7173d702",
       "version_major": 2,
       "version_minor": 0
      },
      "text/plain": [
       "IntProgress(value=0, max=407)"
      ]
     },
     "metadata": {},
     "output_type": "display_data"
    },
    {
     "data": {
      "application/vnd.jupyter.widget-view+json": {
       "model_id": "a6da9af91fbf42b283aff9e2d51d7ca5",
       "version_major": 2,
       "version_minor": 0
      },
      "text/plain": [
       "HTML(value='')"
      ]
     },
     "metadata": {},
     "output_type": "display_data"
    },
    {
     "data": {
      "application/vnd.jupyter.widget-view+json": {
       "model_id": "49b50745fbbe457da2d577d9c3a92b72",
       "version_major": 2,
       "version_minor": 0
      },
      "text/plain": [
       "IntProgress(value=0, max=136)"
      ]
     },
     "metadata": {},
     "output_type": "display_data"
    },
    {
     "data": {
      "application/vnd.jupyter.widget-view+json": {
       "model_id": "15282844b2ca47e38b6e7adccce04301",
       "version_major": 2,
       "version_minor": 0
      },
      "text/plain": [
       "HTML(value='')"
      ]
     },
     "metadata": {},
     "output_type": "display_data"
    },
    {
     "data": {
      "application/vnd.jupyter.widget-view+json": {
       "model_id": "f5c283636a76409fbaefc5a97eb68689",
       "version_major": 2,
       "version_minor": 0
      },
      "text/plain": [
       "IntProgress(value=0, max=53)"
      ]
     },
     "metadata": {},
     "output_type": "display_data"
    },
    {
     "name": "stdout",
     "output_type": "stream",
     "text": [
      "Done running Hot deck on Global Radiation\n",
      "Done running KNN k=1 on Global Radiation\n",
      "Done running KNN k=5 on Global Radiation\n",
      "Done running KNN k=10 on Global Radiation\n",
      "Done running KNN k=15 on Global Radiation\n",
      "Done running KNN k=20 on Global Radiation\n",
      "Done running KNN k=100 on Global Radiation\n"
     ]
    },
    {
     "data": {
      "application/vnd.jupyter.widget-view+json": {
       "model_id": "357995aa15f24b3397416cb489a89b6f",
       "version_major": 2,
       "version_minor": 0
      },
      "text/plain": [
       "Dropdown(description='Config:', options=('factory zero', 'knmi'), value='factory zero')"
      ]
     },
     "metadata": {},
     "output_type": "display_data"
    },
    {
     "data": {
      "application/vnd.jupyter.widget-view+json": {
       "model_id": "f7d924a3b46342e4a477c15c4c82b12e",
       "version_major": 2,
       "version_minor": 0
      },
      "text/plain": [
       "Tab(children=(VBox(children=(HTML(value='Uploaded file selector:'), HBox(children=(Dropdown(options=('021.xlsx…"
      ]
     },
     "metadata": {},
     "output_type": "display_data"
    },
    {
     "data": {
      "application/vnd.jupyter.widget-view+json": {
       "model_id": "9dd9eeeb4637447d8c9c4e16faa0255f",
       "version_major": 2,
       "version_minor": 0
      },
      "text/plain": [
       "Tab(children=(VBox(children=(VBox(children=(HTML(value='Columns type:'), RadioButtons(options=('features', 'ta…"
      ]
     },
     "metadata": {},
     "output_type": "display_data"
    },
    {
     "data": {
      "application/vnd.jupyter.widget-view+json": {
       "model_id": "984432889f4b4f05b60b93595b01df12",
       "version_major": 2,
       "version_minor": 0
      },
      "text/plain": [
       "HTML(value='')"
      ]
     },
     "metadata": {},
     "output_type": "display_data"
    },
    {
     "data": {
      "application/vnd.jupyter.widget-view+json": {
       "model_id": "36181d150a264401b8bff2348e95750d",
       "version_major": 2,
       "version_minor": 0
      },
      "text/plain": [
       "Dropdown(description='Imputer:', options=('median imputation', 'mode imputation', 'mean imputation', 'fillna',…"
      ]
     },
     "metadata": {},
     "output_type": "display_data"
    },
    {
     "data": {
      "application/vnd.jupyter.widget-view+json": {
       "model_id": "3e139795d6084757adf85aff8f7cb133",
       "version_major": 2,
       "version_minor": 0
      },
      "text/plain": [
       "HTML(value='')"
      ]
     },
     "metadata": {},
     "output_type": "display_data"
    },
    {
     "name": "stdout",
     "output_type": "stream",
     "text": [
      "Done running median imputation on Temperature\n",
      "Done running mode imputation on Temperature\n",
      "Done running mean imputation on Temperature\n",
      "Done running linear_interpolation on Temperature\n",
      "Done running forward_fill on Temperature\n"
     ]
    },
    {
     "data": {
      "application/vnd.jupyter.widget-view+json": {
       "model_id": "17ab5866afae49b2a7fcd6ab56aa7bd1",
       "version_major": 2,
       "version_minor": 0
      },
      "text/plain": [
       "SelectMultiple(description='Select donors: ', options=('209 IJmond.csv', '215 Voorschoten.csv', '225 IJmuiden.…"
      ]
     },
     "metadata": {},
     "output_type": "display_data"
    },
    {
     "data": {
      "application/vnd.jupyter.widget-view+json": {
       "model_id": "",
       "version_major": 2,
       "version_minor": 0
      },
      "text/plain": [
       "Button(description='Confirm selection', style=ButtonStyle())"
      ]
     },
     "metadata": {},
     "output_type": "display_data"
    },
    {
     "data": {
      "application/vnd.jupyter.widget-view+json": {
       "model_id": "665bb43b90fb402fb15eebbd11a6d312",
       "version_major": 2,
       "version_minor": 0
      },
      "text/plain": [
       "HTML(value='')"
      ]
     },
     "metadata": {},
     "output_type": "display_data"
    },
    {
     "data": {
      "application/vnd.jupyter.widget-view+json": {
       "model_id": "ec13362ebf564db7bb0f8a0beec1dd7b",
       "version_major": 2,
       "version_minor": 0
      },
      "text/plain": [
       "IntProgress(value=0, max=1349)"
      ]
     },
     "metadata": {},
     "output_type": "display_data"
    },
    {
     "data": {
      "application/vnd.jupyter.widget-view+json": {
       "model_id": "d4bdd85aefa94c6195b6da8db3452c58",
       "version_major": 2,
       "version_minor": 0
      },
      "text/plain": [
       "HTML(value='')"
      ]
     },
     "metadata": {},
     "output_type": "display_data"
    },
    {
     "data": {
      "application/vnd.jupyter.widget-view+json": {
       "model_id": "230634c7e9054bad81d0739aa56ea6cf",
       "version_major": 2,
       "version_minor": 0
      },
      "text/plain": [
       "IntProgress(value=0, max=407)"
      ]
     },
     "metadata": {},
     "output_type": "display_data"
    },
    {
     "data": {
      "application/vnd.jupyter.widget-view+json": {
       "model_id": "8b7213ab2365463c90bcb9bbc1217102",
       "version_major": 2,
       "version_minor": 0
      },
      "text/plain": [
       "HTML(value='')"
      ]
     },
     "metadata": {},
     "output_type": "display_data"
    },
    {
     "data": {
      "application/vnd.jupyter.widget-view+json": {
       "model_id": "6294a13a27774f86afe5772e749b49cd",
       "version_major": 2,
       "version_minor": 0
      },
      "text/plain": [
       "IntProgress(value=0, max=136)"
      ]
     },
     "metadata": {},
     "output_type": "display_data"
    },
    {
     "data": {
      "application/vnd.jupyter.widget-view+json": {
       "model_id": "b847b665948f4752bb92a7922ce7487a",
       "version_major": 2,
       "version_minor": 0
      },
      "text/plain": [
       "HTML(value='')"
      ]
     },
     "metadata": {},
     "output_type": "display_data"
    },
    {
     "data": {
      "application/vnd.jupyter.widget-view+json": {
       "model_id": "04fa9365fc77492aa82afccc34a1d5a7",
       "version_major": 2,
       "version_minor": 0
      },
      "text/plain": [
       "IntProgress(value=0, max=53)"
      ]
     },
     "metadata": {},
     "output_type": "display_data"
    },
    {
     "name": "stdout",
     "output_type": "stream",
     "text": [
      "Done running Hot deck on Temperature\n",
      "Done running KNN k=1 on Temperature\n",
      "Done running KNN k=5 on Temperature\n",
      "Done running KNN k=10 on Temperature\n",
      "Done running KNN k=15 on Temperature\n",
      "Done running KNN k=20 on Temperature\n",
      "Done running KNN k=100 on Temperature\n"
     ]
    },
    {
     "data": {
      "application/vnd.jupyter.widget-view+json": {
       "model_id": "d2f723dfc4da475bb3eefb9d8bfad21d",
       "version_major": 2,
       "version_minor": 0
      },
      "text/plain": [
       "Dropdown(description='Config:', options=('factory zero', 'knmi'), value='factory zero')"
      ]
     },
     "metadata": {},
     "output_type": "display_data"
    },
    {
     "data": {
      "application/vnd.jupyter.widget-view+json": {
       "model_id": "08ddd049eaa349b8a641e850ea50b35a",
       "version_major": 2,
       "version_minor": 0
      },
      "text/plain": [
       "Tab(children=(VBox(children=(HTML(value='Uploaded file selector:'), HBox(children=(Dropdown(options=('021.xlsx…"
      ]
     },
     "metadata": {},
     "output_type": "display_data"
    },
    {
     "data": {
      "application/vnd.jupyter.widget-view+json": {
       "model_id": "bd87d3052204493ca28470bd77a9d4d2",
       "version_major": 2,
       "version_minor": 0
      },
      "text/plain": [
       "Tab(children=(VBox(children=(VBox(children=(HTML(value='Columns type:'), RadioButtons(options=('features', 'ta…"
      ]
     },
     "metadata": {},
     "output_type": "display_data"
    },
    {
     "data": {
      "application/vnd.jupyter.widget-view+json": {
       "model_id": "aa1079cef5114acf87c9c62e917c74f3",
       "version_major": 2,
       "version_minor": 0
      },
      "text/plain": [
       "HTML(value='')"
      ]
     },
     "metadata": {},
     "output_type": "display_data"
    },
    {
     "data": {
      "application/vnd.jupyter.widget-view+json": {
       "model_id": "36f9bea1202340c3b29113c93d763960",
       "version_major": 2,
       "version_minor": 0
      },
      "text/plain": [
       "Dropdown(description='Imputer:', options=('median imputation', 'mode imputation', 'mean imputation', 'fillna',…"
      ]
     },
     "metadata": {},
     "output_type": "display_data"
    },
    {
     "data": {
      "application/vnd.jupyter.widget-view+json": {
       "model_id": "dbd65e99adbc45e59b810c37fbc7d103",
       "version_major": 2,
       "version_minor": 0
      },
      "text/plain": [
       "HTML(value='')"
      ]
     },
     "metadata": {},
     "output_type": "display_data"
    },
    {
     "name": "stdout",
     "output_type": "stream",
     "text": [
      "Done running median imputation on flow_temp\n",
      "Done running mode imputation on flow_temp\n",
      "Done running mean imputation on flow_temp\n",
      "Done running linear_interpolation on flow_temp\n",
      "Done running forward_fill on flow_temp\n"
     ]
    },
    {
     "data": {
      "application/vnd.jupyter.widget-view+json": {
       "model_id": "86c8433c092e47f1b3e6297b24f39d82",
       "version_major": 2,
       "version_minor": 0
      },
      "text/plain": [
       "SelectMultiple(description='Select donors: ', options=('021.xlsx', '025.xlsx', '037.xlsx', '039.xlsx', '040.xl…"
      ]
     },
     "metadata": {},
     "output_type": "display_data"
    },
    {
     "data": {
      "application/vnd.jupyter.widget-view+json": {
       "model_id": "",
       "version_major": 2,
       "version_minor": 0
      },
      "text/plain": [
       "Button(description='Confirm selection', style=ButtonStyle())"
      ]
     },
     "metadata": {},
     "output_type": "display_data"
    },
    {
     "data": {
      "application/vnd.jupyter.widget-view+json": {
       "model_id": "a22cc19f1f3448588aadaa27ef62858f",
       "version_major": 2,
       "version_minor": 0
      },
      "text/plain": [
       "HTML(value='')"
      ]
     },
     "metadata": {},
     "output_type": "display_data"
    },
    {
     "data": {
      "application/vnd.jupyter.widget-view+json": {
       "model_id": "179d30089e724708b53b1b91fc4b2eab",
       "version_major": 2,
       "version_minor": 0
      },
      "text/plain": [
       "IntProgress(value=0, max=2848)"
      ]
     },
     "metadata": {},
     "output_type": "display_data"
    },
    {
     "data": {
      "application/vnd.jupyter.widget-view+json": {
       "model_id": "dece3cfedcc84947a8223ca6ca9cb7be",
       "version_major": 2,
       "version_minor": 0
      },
      "text/plain": [
       "HTML(value='')"
      ]
     },
     "metadata": {},
     "output_type": "display_data"
    },
    {
     "data": {
      "application/vnd.jupyter.widget-view+json": {
       "model_id": "e8a5203f85884560a51dcf96a8736fb9",
       "version_major": 2,
       "version_minor": 0
      },
      "text/plain": [
       "IntProgress(value=0, max=667)"
      ]
     },
     "metadata": {},
     "output_type": "display_data"
    },
    {
     "data": {
      "application/vnd.jupyter.widget-view+json": {
       "model_id": "6b35cfd606c24a1483dee157e47483fb",
       "version_major": 2,
       "version_minor": 0
      },
      "text/plain": [
       "HTML(value='')"
      ]
     },
     "metadata": {},
     "output_type": "display_data"
    },
    {
     "data": {
      "application/vnd.jupyter.widget-view+json": {
       "model_id": "ed6b51c4fe5b4de9891ff19cfec4914b",
       "version_major": 2,
       "version_minor": 0
      },
      "text/plain": [
       "IntProgress(value=0, max=149)"
      ]
     },
     "metadata": {},
     "output_type": "display_data"
    },
    {
     "data": {
      "application/vnd.jupyter.widget-view+json": {
       "model_id": "0cd1e1c12c2a43d5b56c00dd69aaa9be",
       "version_major": 2,
       "version_minor": 0
      },
      "text/plain": [
       "HTML(value='')"
      ]
     },
     "metadata": {},
     "output_type": "display_data"
    },
    {
     "data": {
      "application/vnd.jupyter.widget-view+json": {
       "model_id": "6afc16dcb7bb47a9aface10e9d19d0de",
       "version_major": 2,
       "version_minor": 0
      },
      "text/plain": [
       "IntProgress(value=0, max=38)"
      ]
     },
     "metadata": {},
     "output_type": "display_data"
    },
    {
     "data": {
      "application/vnd.jupyter.widget-view+json": {
       "model_id": "829d428635f84d57b41c581de1f1d36e",
       "version_major": 2,
       "version_minor": 0
      },
      "text/plain": [
       "HTML(value='')"
      ]
     },
     "metadata": {},
     "output_type": "display_data"
    },
    {
     "data": {
      "application/vnd.jupyter.widget-view+json": {
       "model_id": "ba7de0c2e1604b51ba22e89c7f958cbf",
       "version_major": 2,
       "version_minor": 0
      },
      "text/plain": [
       "IntProgress(value=0, max=28)"
      ]
     },
     "metadata": {},
     "output_type": "display_data"
    },
    {
     "name": "stdout",
     "output_type": "stream",
     "text": [
      "Done running Hot deck on flow_temp\n",
      "Done running KNN k=1 on flow_temp\n",
      "Done running KNN k=5 on flow_temp\n",
      "Done running KNN k=10 on flow_temp\n",
      "Done running KNN k=15 on flow_temp\n",
      "Done running KNN k=20 on flow_temp\n",
      "Done running KNN k=100 on flow_temp\n"
     ]
    },
    {
     "data": {
      "application/vnd.jupyter.widget-view+json": {
       "model_id": "41e1e29d5cc34c418ba13e12ee9405e0",
       "version_major": 2,
       "version_minor": 0
      },
      "text/plain": [
       "Dropdown(description='Config:', options=('factory zero', 'knmi'), value='factory zero')"
      ]
     },
     "metadata": {},
     "output_type": "display_data"
    },
    {
     "data": {
      "application/vnd.jupyter.widget-view+json": {
       "model_id": "569693aec48d4e80b2a5d30970a447d0",
       "version_major": 2,
       "version_minor": 0
      },
      "text/plain": [
       "Tab(children=(VBox(children=(HTML(value='Uploaded file selector:'), HBox(children=(Dropdown(options=('021.xlsx…"
      ]
     },
     "metadata": {},
     "output_type": "display_data"
    },
    {
     "data": {
      "application/vnd.jupyter.widget-view+json": {
       "model_id": "d8e9b63442d54cc89406970cf4a3b705",
       "version_major": 2,
       "version_minor": 0
      },
      "text/plain": [
       "Tab(children=(VBox(children=(VBox(children=(HTML(value='Columns type:'), RadioButtons(options=('features', 'ta…"
      ]
     },
     "metadata": {},
     "output_type": "display_data"
    },
    {
     "data": {
      "application/vnd.jupyter.widget-view+json": {
       "model_id": "95786dd7166c4f30a681dfbee8f282e4",
       "version_major": 2,
       "version_minor": 0
      },
      "text/plain": [
       "HTML(value='')"
      ]
     },
     "metadata": {},
     "output_type": "display_data"
    },
    {
     "data": {
      "application/vnd.jupyter.widget-view+json": {
       "model_id": "9140ef86610e43d1b383ea26bad98fb3",
       "version_major": 2,
       "version_minor": 0
      },
      "text/plain": [
       "Dropdown(description='Imputer:', options=('median imputation', 'mode imputation', 'mean imputation', 'fillna',…"
      ]
     },
     "metadata": {},
     "output_type": "display_data"
    },
    {
     "data": {
      "application/vnd.jupyter.widget-view+json": {
       "model_id": "103315b179d54fc0b244bb6ccf7d20c8",
       "version_major": 2,
       "version_minor": 0
      },
      "text/plain": [
       "HTML(value='')"
      ]
     },
     "metadata": {},
     "output_type": "display_data"
    },
    {
     "name": "stdout",
     "output_type": "stream",
     "text": [
      "Done running median imputation on op_mode\n",
      "Done running mode imputation on op_mode\n",
      "Done running mean imputation on op_mode\n",
      "Done running linear_interpolation on op_mode\n",
      "Done running forward_fill on op_mode\n"
     ]
    },
    {
     "data": {
      "application/vnd.jupyter.widget-view+json": {
       "model_id": "6e59b5b4ba53461d98484d7fb7016381",
       "version_major": 2,
       "version_minor": 0
      },
      "text/plain": [
       "SelectMultiple(description='Select donors: ', options=('021.xlsx', '025.xlsx', '037.xlsx', '039.xlsx', '040.xl…"
      ]
     },
     "metadata": {},
     "output_type": "display_data"
    },
    {
     "data": {
      "application/vnd.jupyter.widget-view+json": {
       "model_id": "",
       "version_major": 2,
       "version_minor": 0
      },
      "text/plain": [
       "Button(description='Confirm selection', style=ButtonStyle())"
      ]
     },
     "metadata": {},
     "output_type": "display_data"
    },
    {
     "data": {
      "application/vnd.jupyter.widget-view+json": {
       "model_id": "82951c2142334820910e04557b354104",
       "version_major": 2,
       "version_minor": 0
      },
      "text/plain": [
       "HTML(value='')"
      ]
     },
     "metadata": {},
     "output_type": "display_data"
    },
    {
     "data": {
      "application/vnd.jupyter.widget-view+json": {
       "model_id": "6dc194bd18a0461296f287501e051c31",
       "version_major": 2,
       "version_minor": 0
      },
      "text/plain": [
       "IntProgress(value=0, max=2848)"
      ]
     },
     "metadata": {},
     "output_type": "display_data"
    },
    {
     "data": {
      "application/vnd.jupyter.widget-view+json": {
       "model_id": "0acacd858b7746ad85696f81d9be4e4e",
       "version_major": 2,
       "version_minor": 0
      },
      "text/plain": [
       "HTML(value='')"
      ]
     },
     "metadata": {},
     "output_type": "display_data"
    },
    {
     "data": {
      "application/vnd.jupyter.widget-view+json": {
       "model_id": "9bb953c35d8e498abed0543630f7d1f8",
       "version_major": 2,
       "version_minor": 0
      },
      "text/plain": [
       "IntProgress(value=0, max=667)"
      ]
     },
     "metadata": {},
     "output_type": "display_data"
    },
    {
     "data": {
      "application/vnd.jupyter.widget-view+json": {
       "model_id": "ab5170b23307433c8111bcaedf97599f",
       "version_major": 2,
       "version_minor": 0
      },
      "text/plain": [
       "HTML(value='')"
      ]
     },
     "metadata": {},
     "output_type": "display_data"
    },
    {
     "data": {
      "application/vnd.jupyter.widget-view+json": {
       "model_id": "482672877b2e4b068cc5a8afdbb5bd46",
       "version_major": 2,
       "version_minor": 0
      },
      "text/plain": [
       "IntProgress(value=0, max=149)"
      ]
     },
     "metadata": {},
     "output_type": "display_data"
    },
    {
     "data": {
      "application/vnd.jupyter.widget-view+json": {
       "model_id": "1322d1da1d7f408388d7d5f2860657b9",
       "version_major": 2,
       "version_minor": 0
      },
      "text/plain": [
       "HTML(value='')"
      ]
     },
     "metadata": {},
     "output_type": "display_data"
    },
    {
     "data": {
      "application/vnd.jupyter.widget-view+json": {
       "model_id": "c4adc8bf4f9d43a68d29dee5c50042a3",
       "version_major": 2,
       "version_minor": 0
      },
      "text/plain": [
       "IntProgress(value=0, max=38)"
      ]
     },
     "metadata": {},
     "output_type": "display_data"
    },
    {
     "data": {
      "application/vnd.jupyter.widget-view+json": {
       "model_id": "08ff5414dacc4ecaa72828409a015990",
       "version_major": 2,
       "version_minor": 0
      },
      "text/plain": [
       "HTML(value='')"
      ]
     },
     "metadata": {},
     "output_type": "display_data"
    },
    {
     "data": {
      "application/vnd.jupyter.widget-view+json": {
       "model_id": "008e5571690348d685283af47f5acaaa",
       "version_major": 2,
       "version_minor": 0
      },
      "text/plain": [
       "IntProgress(value=0, max=28)"
      ]
     },
     "metadata": {},
     "output_type": "display_data"
    },
    {
     "name": "stdout",
     "output_type": "stream",
     "text": [
      "Done running Hot deck on op_mode\n",
      "Done running KNN k=1 on op_mode\n",
      "Done running KNN k=5 on op_mode\n",
      "Done running KNN k=10 on op_mode\n",
      "Done running KNN k=15 on op_mode\n",
      "Done running KNN k=20 on op_mode\n",
      "Done running KNN k=100 on op_mode\n"
     ]
    },
    {
     "data": {
      "application/vnd.jupyter.widget-view+json": {
       "model_id": "4dc1827fa0084c50b30e62004498b730",
       "version_major": 2,
       "version_minor": 0
      },
      "text/plain": [
       "Dropdown(description='Config:', options=('factory zero', 'knmi'), value='factory zero')"
      ]
     },
     "metadata": {},
     "output_type": "display_data"
    },
    {
     "data": {
      "application/vnd.jupyter.widget-view+json": {
       "model_id": "a3d2e2fcdac94fe29ac8b117b86aee8a",
       "version_major": 2,
       "version_minor": 0
      },
      "text/plain": [
       "Tab(children=(VBox(children=(HTML(value='Uploaded file selector:'), HBox(children=(Dropdown(options=('021.xlsx…"
      ]
     },
     "metadata": {},
     "output_type": "display_data"
    },
    {
     "data": {
      "application/vnd.jupyter.widget-view+json": {
       "model_id": "b0d4f4c291f04491878c65d7a383a9b2",
       "version_major": 2,
       "version_minor": 0
      },
      "text/plain": [
       "Tab(children=(VBox(children=(VBox(children=(HTML(value='Columns type:'), RadioButtons(options=('features', 'ta…"
      ]
     },
     "metadata": {},
     "output_type": "display_data"
    },
    {
     "data": {
      "application/vnd.jupyter.widget-view+json": {
       "model_id": "6d60968a6b8b4a10b20534e345bc9f04",
       "version_major": 2,
       "version_minor": 0
      },
      "text/plain": [
       "HTML(value='')"
      ]
     },
     "metadata": {},
     "output_type": "display_data"
    },
    {
     "data": {
      "application/vnd.jupyter.widget-view+json": {
       "model_id": "58f613ac452e4867b54cc3f70f07094f",
       "version_major": 2,
       "version_minor": 0
      },
      "text/plain": [
       "Dropdown(description='Imputer:', options=('median imputation', 'mode imputation', 'mean imputation', 'fillna',…"
      ]
     },
     "metadata": {},
     "output_type": "display_data"
    },
    {
     "data": {
      "application/vnd.jupyter.widget-view+json": {
       "model_id": "4cdfe0532be840e687d247b23afb61f3",
       "version_major": 2,
       "version_minor": 0
      },
      "text/plain": [
       "HTML(value='')"
      ]
     },
     "metadata": {},
     "output_type": "display_data"
    },
    {
     "name": "stdout",
     "output_type": "stream",
     "text": [
      "Done running median imputation on power\n",
      "Done running mode imputation on power\n",
      "Done running mean imputation on power\n",
      "Done running linear_interpolation on power\n",
      "Done running forward_fill on power\n"
     ]
    },
    {
     "data": {
      "application/vnd.jupyter.widget-view+json": {
       "model_id": "587dffbbc6084738be986218cb4621bc",
       "version_major": 2,
       "version_minor": 0
      },
      "text/plain": [
       "SelectMultiple(description='Select donors: ', options=('021.xlsx', '025.xlsx', '037.xlsx', '039.xlsx', '040.xl…"
      ]
     },
     "metadata": {},
     "output_type": "display_data"
    },
    {
     "data": {
      "application/vnd.jupyter.widget-view+json": {
       "model_id": "",
       "version_major": 2,
       "version_minor": 0
      },
      "text/plain": [
       "Button(description='Confirm selection', style=ButtonStyle())"
      ]
     },
     "metadata": {},
     "output_type": "display_data"
    },
    {
     "data": {
      "application/vnd.jupyter.widget-view+json": {
       "model_id": "c0d69da12a4b47a4abbf362427bf5269",
       "version_major": 2,
       "version_minor": 0
      },
      "text/plain": [
       "HTML(value='')"
      ]
     },
     "metadata": {},
     "output_type": "display_data"
    },
    {
     "data": {
      "application/vnd.jupyter.widget-view+json": {
       "model_id": "e3d50e8e0e6c45a1be0811d3dc269f55",
       "version_major": 2,
       "version_minor": 0
      },
      "text/plain": [
       "IntProgress(value=0, max=2848)"
      ]
     },
     "metadata": {},
     "output_type": "display_data"
    },
    {
     "data": {
      "application/vnd.jupyter.widget-view+json": {
       "model_id": "2a19cf023c84420b8749b31dd66db5a0",
       "version_major": 2,
       "version_minor": 0
      },
      "text/plain": [
       "HTML(value='')"
      ]
     },
     "metadata": {},
     "output_type": "display_data"
    },
    {
     "data": {
      "application/vnd.jupyter.widget-view+json": {
       "model_id": "1789b2791f174c6ca43e4393e76e4e7a",
       "version_major": 2,
       "version_minor": 0
      },
      "text/plain": [
       "IntProgress(value=0, max=667)"
      ]
     },
     "metadata": {},
     "output_type": "display_data"
    },
    {
     "data": {
      "application/vnd.jupyter.widget-view+json": {
       "model_id": "30d0d3c6a9ab4defa8954a6ce903156f",
       "version_major": 2,
       "version_minor": 0
      },
      "text/plain": [
       "HTML(value='')"
      ]
     },
     "metadata": {},
     "output_type": "display_data"
    },
    {
     "data": {
      "application/vnd.jupyter.widget-view+json": {
       "model_id": "652af85f46734f71b1ef6bb6bda797a1",
       "version_major": 2,
       "version_minor": 0
      },
      "text/plain": [
       "IntProgress(value=0, max=149)"
      ]
     },
     "metadata": {},
     "output_type": "display_data"
    },
    {
     "data": {
      "application/vnd.jupyter.widget-view+json": {
       "model_id": "1b888ff7ff0340b0bd819848ff8f4ec2",
       "version_major": 2,
       "version_minor": 0
      },
      "text/plain": [
       "HTML(value='')"
      ]
     },
     "metadata": {},
     "output_type": "display_data"
    },
    {
     "data": {
      "application/vnd.jupyter.widget-view+json": {
       "model_id": "cd9f3e1c50894d36af8e85b227d954fc",
       "version_major": 2,
       "version_minor": 0
      },
      "text/plain": [
       "IntProgress(value=0, max=38)"
      ]
     },
     "metadata": {},
     "output_type": "display_data"
    },
    {
     "data": {
      "application/vnd.jupyter.widget-view+json": {
       "model_id": "823cd84c53e948459c936a8aa15b13e3",
       "version_major": 2,
       "version_minor": 0
      },
      "text/plain": [
       "HTML(value='')"
      ]
     },
     "metadata": {},
     "output_type": "display_data"
    },
    {
     "data": {
      "application/vnd.jupyter.widget-view+json": {
       "model_id": "4b8c825c48a24c4093782c775325cba7",
       "version_major": 2,
       "version_minor": 0
      },
      "text/plain": [
       "IntProgress(value=0, max=28)"
      ]
     },
     "metadata": {},
     "output_type": "display_data"
    },
    {
     "name": "stdout",
     "output_type": "stream",
     "text": [
      "Done running Hot deck on power\n",
      "Done running KNN k=1 on power\n",
      "Done running KNN k=5 on power\n",
      "Done running KNN k=10 on power\n",
      "Done running KNN k=15 on power\n",
      "Done running KNN k=20 on power\n",
      "Done running KNN k=100 on power\n"
     ]
    },
    {
     "data": {
      "application/vnd.jupyter.widget-view+json": {
       "model_id": "ac5af7c3d574419dba6cb128ff3a7fc6",
       "version_major": 2,
       "version_minor": 0
      },
      "text/plain": [
       "Dropdown(description='Config:', options=('factory zero', 'knmi'), value='factory zero')"
      ]
     },
     "metadata": {},
     "output_type": "display_data"
    },
    {
     "data": {
      "application/vnd.jupyter.widget-view+json": {
       "model_id": "5194e8f53cfb4225b8b3ca8720bdc6ba",
       "version_major": 2,
       "version_minor": 0
      },
      "text/plain": [
       "Tab(children=(VBox(children=(HTML(value='Uploaded file selector:'), HBox(children=(Dropdown(options=('021.xlsx…"
      ]
     },
     "metadata": {},
     "output_type": "display_data"
    },
    {
     "data": {
      "application/vnd.jupyter.widget-view+json": {
       "model_id": "288624ac876e41bc8dfe4b02cdd547f4",
       "version_major": 2,
       "version_minor": 0
      },
      "text/plain": [
       "Tab(children=(VBox(children=(VBox(children=(HTML(value='Columns type:'), RadioButtons(options=('features', 'ta…"
      ]
     },
     "metadata": {},
     "output_type": "display_data"
    },
    {
     "data": {
      "application/vnd.jupyter.widget-view+json": {
       "model_id": "f5a3980dd68546a48a20a9ace3f69eab",
       "version_major": 2,
       "version_minor": 0
      },
      "text/plain": [
       "HTML(value='')"
      ]
     },
     "metadata": {},
     "output_type": "display_data"
    },
    {
     "data": {
      "application/vnd.jupyter.widget-view+json": {
       "model_id": "2be384842e364c4b82d8c8f2a1139869",
       "version_major": 2,
       "version_minor": 0
      },
      "text/plain": [
       "Dropdown(description='Imputer:', options=('median imputation', 'mode imputation', 'mean imputation', 'fillna',…"
      ]
     },
     "metadata": {},
     "output_type": "display_data"
    },
    {
     "data": {
      "application/vnd.jupyter.widget-view+json": {
       "model_id": "e63cb428ca1b49839fd2a25ff9481279",
       "version_major": 2,
       "version_minor": 0
      },
      "text/plain": [
       "HTML(value='')"
      ]
     },
     "metadata": {},
     "output_type": "display_data"
    },
    {
     "name": "stdout",
     "output_type": "stream",
     "text": [
      "Done running median imputation on co2\n",
      "Done running mode imputation on co2\n",
      "Done running mean imputation on co2\n",
      "Done running linear_interpolation on co2\n",
      "Done running forward_fill on co2\n"
     ]
    },
    {
     "data": {
      "application/vnd.jupyter.widget-view+json": {
       "model_id": "672040093afa4885867290b968c5a3b7",
       "version_major": 2,
       "version_minor": 0
      },
      "text/plain": [
       "SelectMultiple(description='Select donors: ', options=('021.xlsx', '025.xlsx', '037.xlsx', '039.xlsx', '040.xl…"
      ]
     },
     "metadata": {},
     "output_type": "display_data"
    },
    {
     "data": {
      "application/vnd.jupyter.widget-view+json": {
       "model_id": "",
       "version_major": 2,
       "version_minor": 0
      },
      "text/plain": [
       "Button(description='Confirm selection', style=ButtonStyle())"
      ]
     },
     "metadata": {},
     "output_type": "display_data"
    },
    {
     "data": {
      "application/vnd.jupyter.widget-view+json": {
       "model_id": "bb4d3bab353c4d72bfa7bc006f513b0c",
       "version_major": 2,
       "version_minor": 0
      },
      "text/plain": [
       "HTML(value='')"
      ]
     },
     "metadata": {},
     "output_type": "display_data"
    },
    {
     "data": {
      "application/vnd.jupyter.widget-view+json": {
       "model_id": "7ed208e7329b41c6b788572878f6d87b",
       "version_major": 2,
       "version_minor": 0
      },
      "text/plain": [
       "IntProgress(value=0, max=2848)"
      ]
     },
     "metadata": {},
     "output_type": "display_data"
    },
    {
     "data": {
      "application/vnd.jupyter.widget-view+json": {
       "model_id": "9d7b403df0a14143a2aed7b8cf4b186c",
       "version_major": 2,
       "version_minor": 0
      },
      "text/plain": [
       "HTML(value='')"
      ]
     },
     "metadata": {},
     "output_type": "display_data"
    },
    {
     "data": {
      "application/vnd.jupyter.widget-view+json": {
       "model_id": "e34a85d501704dcf86f53b8a26e554e6",
       "version_major": 2,
       "version_minor": 0
      },
      "text/plain": [
       "IntProgress(value=0, max=667)"
      ]
     },
     "metadata": {},
     "output_type": "display_data"
    },
    {
     "data": {
      "application/vnd.jupyter.widget-view+json": {
       "model_id": "fb492341758f41e780941ef0653504b1",
       "version_major": 2,
       "version_minor": 0
      },
      "text/plain": [
       "HTML(value='')"
      ]
     },
     "metadata": {},
     "output_type": "display_data"
    },
    {
     "data": {
      "application/vnd.jupyter.widget-view+json": {
       "model_id": "602db4de8f244d2090144bcce92946ad",
       "version_major": 2,
       "version_minor": 0
      },
      "text/plain": [
       "IntProgress(value=0, max=149)"
      ]
     },
     "metadata": {},
     "output_type": "display_data"
    },
    {
     "data": {
      "application/vnd.jupyter.widget-view+json": {
       "model_id": "8b3b90f5e111452381e2f9c7f91712c2",
       "version_major": 2,
       "version_minor": 0
      },
      "text/plain": [
       "HTML(value='')"
      ]
     },
     "metadata": {},
     "output_type": "display_data"
    },
    {
     "data": {
      "application/vnd.jupyter.widget-view+json": {
       "model_id": "772576f641c84e4e9e2c385ae6817ce0",
       "version_major": 2,
       "version_minor": 0
      },
      "text/plain": [
       "IntProgress(value=0, max=38)"
      ]
     },
     "metadata": {},
     "output_type": "display_data"
    },
    {
     "data": {
      "application/vnd.jupyter.widget-view+json": {
       "model_id": "68408e5e00324d0e9a0fa5cfca9230a7",
       "version_major": 2,
       "version_minor": 0
      },
      "text/plain": [
       "HTML(value='')"
      ]
     },
     "metadata": {},
     "output_type": "display_data"
    },
    {
     "data": {
      "application/vnd.jupyter.widget-view+json": {
       "model_id": "c54734bc05a64d938505b03cfeae0bb2",
       "version_major": 2,
       "version_minor": 0
      },
      "text/plain": [
       "IntProgress(value=0, max=28)"
      ]
     },
     "metadata": {},
     "output_type": "display_data"
    },
    {
     "name": "stdout",
     "output_type": "stream",
     "text": [
      "Done running Hot deck on co2\n",
      "Done running KNN k=1 on co2\n",
      "Done running KNN k=5 on co2\n",
      "Done running KNN k=10 on co2\n",
      "Done running KNN k=15 on co2\n",
      "Done running KNN k=20 on co2\n",
      "Done running KNN k=100 on co2\n"
     ]
    }
   ],
   "source": [
    "import ipywidgets as widgets\n",
    "import random\n",
    "\n",
    "random_state = 0\n",
    "\n",
    "filtered_imputers = [\n",
    "    \"median imputation\",\n",
    "    \"mode imputation\",\n",
    "    \"mean imputation\",\n",
    "#     \"fillna\",\n",
    "    \"linear_interpolation\",\n",
    "#     \"missForest_regressor_MICE\",\n",
    "#     \"bayesian_ridge_MICE\",\n",
    "    \"forward_fill\",\n",
    "    \"Hot deck\",\n",
    "    \"KNN k=1\",\n",
    "    \"KNN k=5\",\n",
    "    \"KNN k=10\",\n",
    "    \"KNN k=15\",\n",
    "    \"KNN k=20\",\n",
    "    \"KNN k=100\"\n",
    "]\n",
    "\n",
    "to_impute = [\n",
    "    {\n",
    "        \"conf\": \"knmi\",\n",
    "        \"file\": \"260 De Bilt.csv\",\n",
    "        \"target\": \"Relative atmospheric humidity\",\n",
    "        \"sheet_name\": None\n",
    "    },\n",
    "    {\n",
    "        \"conf\": \"knmi\",\n",
    "        \"file\": \"260 De Bilt.csv\",\n",
    "        \"target\": \"Global Radiation\",\n",
    "        \"sheet_name\": None\n",
    "    },\n",
    "    {\n",
    "        \"conf\": \"knmi\",\n",
    "        \"file\": \"260 De Bilt.csv\",\n",
    "        \"target\": \"Temperature\",\n",
    "        \"sheet_name\": None\n",
    "    },\n",
    "    {\n",
    "        \"conf\": \"factory zero\",\n",
    "        \"file\": \"099.xlsx\",\n",
    "        \"target\": \"flow_temp\",\n",
    "        \"sheet_name\": \"alklimaHeatPump\"\n",
    "    },\n",
    "    {\n",
    "        \"conf\": \"factory zero\",\n",
    "        \"file\": \"099.xlsx\",\n",
    "        \"target\": \"op_mode\",\n",
    "        \"sheet_name\": \"alklimaHeatPump\"\n",
    "    },\n",
    "    {\n",
    "        \"conf\": \"factory zero\",\n",
    "        \"file\": \"099.xlsx\",\n",
    "        \"target\": \"power\",\n",
    "        \"sheet_name\": \"smartMeter\"\n",
    "    },\n",
    "    {\n",
    "        \"conf\": \"factory zero\",\n",
    "        \"file\": \"099.xlsx\",\n",
    "        \"target\": \"co2\",\n",
    "        \"sheet_name\": \"co2sensor\"\n",
    "    }\n",
    "]\n",
    "\n",
    "devNullOutput = widgets.Output()\n",
    "\n",
    "for it in to_impute:\n",
    "    # Load the data\n",
    "    %run helpers/load_data.ipynb\n",
    "    config_select.value = it[\"conf\"]\n",
    "    file_select.value = it[\"file\"]\n",
    "    dfloader.add_targets(it[\"target\"], sheet_name=it[\"sheet_name\"])\n",
    "    df = dfloader.df\n",
    "\n",
    "    # Create gaps\n",
    "    random.seed(random_state)\n",
    "    %run helpers/create_gaps.ipynb\n",
    "\n",
    "    # Run the imputers\n",
    "    %run helpers/impute.ipynb\n",
    "    for k in filtered_imputers:\n",
    "        try:\n",
    "            if k == \"Hot deck\":\n",
    "                imputer_select.value = \"Hot deck\" if it[\"target\"] != \"op_mode\" else \"Hot deck (classification)\"\n",
    "                ext = it[\"file\"][-4:]\n",
    "                hd_donors_selector.value = [opt for opt in hd_donors_selector.options if opt != it[\"file\"] and opt.endswith(ext)]\n",
    "                hd_confirm_button.click()\n",
    "            else:\n",
    "                imputer_select.value = k\n",
    "\n",
    "            # Evaluate and save results\n",
    "            with devNullOutput:\n",
    "                %run helpers/evaluate.ipynb\n",
    "                %run helpers/saving.ipynb\n",
    "                save_eval_btn.click()\n",
    "                save_seperatly_btn.click()\n",
    "            print(f\"Done running {k} on {it['target']}\")\n",
    "        except:\n",
    "            print(f\"Error running {k} on {it['target']}\")\n"
   ]
  },
  {
   "cell_type": "code",
   "execution_count": 2,
   "id": "3f1699f2",
   "metadata": {
    "scrolled": false
   },
   "outputs": [
    {
     "name": "stdout",
     "output_type": "stream",
     "text": [
      "Imputing 0 - Temperature\n"
     ]
    },
    {
     "data": {
      "application/vnd.jupyter.widget-view+json": {
       "model_id": "4fe55dfd4d1e4fa39d94ad0742b8b837",
       "version_major": 2,
       "version_minor": 0
      },
      "text/plain": [
       "Dropdown(description='Config:', options=('factory zero', 'knmi'), value='factory zero')"
      ]
     },
     "metadata": {},
     "output_type": "display_data"
    },
    {
     "data": {
      "application/vnd.jupyter.widget-view+json": {
       "model_id": "210f19ba2f2e4ebfa0f664b510a13a3b",
       "version_major": 2,
       "version_minor": 0
      },
      "text/plain": [
       "Tab(children=(VBox(children=(HTML(value='Uploaded file selector:'), HBox(children=(Dropdown(options=('021.xlsx…"
      ]
     },
     "metadata": {},
     "output_type": "display_data"
    },
    {
     "data": {
      "application/vnd.jupyter.widget-view+json": {
       "model_id": "229f566dbcff48cba3fbfb9f68808d70",
       "version_major": 2,
       "version_minor": 0
      },
      "text/plain": [
       "Tab(children=(VBox(children=(VBox(children=(HTML(value='Columns type:'), RadioButtons(options=('features', 'ta…"
      ]
     },
     "metadata": {},
     "output_type": "display_data"
    },
    {
     "data": {
      "application/vnd.jupyter.widget-view+json": {
       "model_id": "96999b6123934799a00ddc1169ad3e2d",
       "version_major": 2,
       "version_minor": 0
      },
      "text/plain": [
       "HTML(value='')"
      ]
     },
     "metadata": {},
     "output_type": "display_data"
    },
    {
     "data": {
      "application/vnd.jupyter.widget-view+json": {
       "model_id": "2b5e9b751c194bf083be5a029f56c89a",
       "version_major": 2,
       "version_minor": 0
      },
      "text/plain": [
       "  0%|          | 0/17531 [00:00<?, ?it/s]"
      ]
     },
     "metadata": {},
     "output_type": "display_data"
    },
    {
     "data": {
      "application/vnd.jupyter.widget-view+json": {
       "model_id": "853c352c9dd44a94a19bd4b4d3cf4a5b",
       "version_major": 2,
       "version_minor": 0
      },
      "text/plain": [
       "  0%|          | 0/17531 [00:00<?, ?it/s]"
      ]
     },
     "metadata": {},
     "output_type": "display_data"
    },
    {
     "data": {
      "application/vnd.jupyter.widget-view+json": {
       "model_id": "1c25f8d0a8b84a4dabd3154008ebdca9",
       "version_major": 2,
       "version_minor": 0
      },
      "text/plain": [
       "  0%|          | 0/17531 [00:00<?, ?it/s]"
      ]
     },
     "metadata": {},
     "output_type": "display_data"
    },
    {
     "data": {
      "application/vnd.jupyter.widget-view+json": {
       "model_id": "5011feeb9437436f80d6c395e598b1e7",
       "version_major": 2,
       "version_minor": 0
      },
      "text/plain": [
       "  0%|          | 0/17531 [00:00<?, ?it/s]"
      ]
     },
     "metadata": {},
     "output_type": "display_data"
    },
    {
     "name": "stdout",
     "output_type": "stream",
     "text": [
      "Imputing 0 - Relative atmospheric humidity\n"
     ]
    },
    {
     "data": {
      "application/vnd.jupyter.widget-view+json": {
       "model_id": "982537d1809f447782d7b4d0c1313578",
       "version_major": 2,
       "version_minor": 0
      },
      "text/plain": [
       "Dropdown(description='Config:', options=('factory zero', 'knmi'), value='factory zero')"
      ]
     },
     "metadata": {},
     "output_type": "display_data"
    },
    {
     "data": {
      "application/vnd.jupyter.widget-view+json": {
       "model_id": "6054d567bc9c4d959ac005880511fe40",
       "version_major": 2,
       "version_minor": 0
      },
      "text/plain": [
       "Tab(children=(VBox(children=(HTML(value='Uploaded file selector:'), HBox(children=(Dropdown(options=('021.xlsx…"
      ]
     },
     "metadata": {},
     "output_type": "display_data"
    },
    {
     "data": {
      "application/vnd.jupyter.widget-view+json": {
       "model_id": "fd81cb71e6b040a2bea833cbb2442d8f",
       "version_major": 2,
       "version_minor": 0
      },
      "text/plain": [
       "Tab(children=(VBox(children=(VBox(children=(HTML(value='Columns type:'), RadioButtons(options=('features', 'ta…"
      ]
     },
     "metadata": {},
     "output_type": "display_data"
    },
    {
     "data": {
      "application/vnd.jupyter.widget-view+json": {
       "model_id": "afd0070841d04758bbed070f3ab45ab3",
       "version_major": 2,
       "version_minor": 0
      },
      "text/plain": [
       "HTML(value='')"
      ]
     },
     "metadata": {},
     "output_type": "display_data"
    },
    {
     "data": {
      "application/vnd.jupyter.widget-view+json": {
       "model_id": "5b60c13770874de68a529b3065897807",
       "version_major": 2,
       "version_minor": 0
      },
      "text/plain": [
       "  0%|          | 0/17531 [00:00<?, ?it/s]"
      ]
     },
     "metadata": {},
     "output_type": "display_data"
    },
    {
     "data": {
      "application/vnd.jupyter.widget-view+json": {
       "model_id": "20ba04719fd34404ad8c1973b5dff38c",
       "version_major": 2,
       "version_minor": 0
      },
      "text/plain": [
       "  0%|          | 0/17531 [00:00<?, ?it/s]"
      ]
     },
     "metadata": {},
     "output_type": "display_data"
    },
    {
     "data": {
      "application/vnd.jupyter.widget-view+json": {
       "model_id": "62b5d924373346ebab0e4acd0613c611",
       "version_major": 2,
       "version_minor": 0
      },
      "text/plain": [
       "  0%|          | 0/17531 [00:00<?, ?it/s]"
      ]
     },
     "metadata": {},
     "output_type": "display_data"
    },
    {
     "data": {
      "application/vnd.jupyter.widget-view+json": {
       "model_id": "2f63ec8bfb124fc79a031215185a244f",
       "version_major": 2,
       "version_minor": 0
      },
      "text/plain": [
       "  0%|          | 0/17531 [00:00<?, ?it/s]"
      ]
     },
     "metadata": {},
     "output_type": "display_data"
    },
    {
     "name": "stdout",
     "output_type": "stream",
     "text": [
      "Imputing 0 - Global Radiation\n"
     ]
    },
    {
     "data": {
      "application/vnd.jupyter.widget-view+json": {
       "model_id": "08de3091c33a4439abeae9c6de4398e9",
       "version_major": 2,
       "version_minor": 0
      },
      "text/plain": [
       "Dropdown(description='Config:', options=('factory zero', 'knmi'), value='factory zero')"
      ]
     },
     "metadata": {},
     "output_type": "display_data"
    },
    {
     "data": {
      "application/vnd.jupyter.widget-view+json": {
       "model_id": "3f65542c5211499195db56a240540cfe",
       "version_major": 2,
       "version_minor": 0
      },
      "text/plain": [
       "Tab(children=(VBox(children=(HTML(value='Uploaded file selector:'), HBox(children=(Dropdown(options=('021.xlsx…"
      ]
     },
     "metadata": {},
     "output_type": "display_data"
    },
    {
     "data": {
      "application/vnd.jupyter.widget-view+json": {
       "model_id": "364bb773d3fd48728a4bda7b53fcf09e",
       "version_major": 2,
       "version_minor": 0
      },
      "text/plain": [
       "Tab(children=(VBox(children=(VBox(children=(HTML(value='Columns type:'), RadioButtons(options=('features', 'ta…"
      ]
     },
     "metadata": {},
     "output_type": "display_data"
    },
    {
     "data": {
      "application/vnd.jupyter.widget-view+json": {
       "model_id": "303568b737c04e8c8c11464d2b7ab33d",
       "version_major": 2,
       "version_minor": 0
      },
      "text/plain": [
       "HTML(value='')"
      ]
     },
     "metadata": {},
     "output_type": "display_data"
    },
    {
     "data": {
      "application/vnd.jupyter.widget-view+json": {
       "model_id": "c0e68d8b68424316b642e8ec0109e412",
       "version_major": 2,
       "version_minor": 0
      },
      "text/plain": [
       "  0%|          | 0/17531 [00:00<?, ?it/s]"
      ]
     },
     "metadata": {},
     "output_type": "display_data"
    },
    {
     "data": {
      "application/vnd.jupyter.widget-view+json": {
       "model_id": "ace86409f9da491297ff8842843774fb",
       "version_major": 2,
       "version_minor": 0
      },
      "text/plain": [
       "  0%|          | 0/17531 [00:00<?, ?it/s]"
      ]
     },
     "metadata": {},
     "output_type": "display_data"
    },
    {
     "data": {
      "application/vnd.jupyter.widget-view+json": {
       "model_id": "6baaa44c98964b3d984bbb05c858e651",
       "version_major": 2,
       "version_minor": 0
      },
      "text/plain": [
       "  0%|          | 0/17531 [00:00<?, ?it/s]"
      ]
     },
     "metadata": {},
     "output_type": "display_data"
    },
    {
     "data": {
      "application/vnd.jupyter.widget-view+json": {
       "model_id": "da6c280df0394f59a6c195fc5e414df0",
       "version_major": 2,
       "version_minor": 0
      },
      "text/plain": [
       "  0%|          | 0/17531 [00:00<?, ?it/s]"
      ]
     },
     "metadata": {},
     "output_type": "display_data"
    },
    {
     "name": "stdout",
     "output_type": "stream",
     "text": [
      "Imputing alklimaHeatPump - flow_temp\n"
     ]
    },
    {
     "data": {
      "application/vnd.jupyter.widget-view+json": {
       "model_id": "d50ab9b633d1425eaa0faee660155de6",
       "version_major": 2,
       "version_minor": 0
      },
      "text/plain": [
       "Dropdown(description='Config:', options=('factory zero', 'knmi'), value='factory zero')"
      ]
     },
     "metadata": {},
     "output_type": "display_data"
    },
    {
     "data": {
      "application/vnd.jupyter.widget-view+json": {
       "model_id": "59a459cd3d40430b860bd5995235e91d",
       "version_major": 2,
       "version_minor": 0
      },
      "text/plain": [
       "Tab(children=(VBox(children=(HTML(value='Uploaded file selector:'), HBox(children=(Dropdown(options=('021.xlsx…"
      ]
     },
     "metadata": {},
     "output_type": "display_data"
    },
    {
     "data": {
      "application/vnd.jupyter.widget-view+json": {
       "model_id": "f097564a8d2c448c9521f537faafdb86",
       "version_major": 2,
       "version_minor": 0
      },
      "text/plain": [
       "Tab(children=(VBox(children=(VBox(children=(HTML(value='Columns type:'), RadioButtons(options=('features', 'ta…"
      ]
     },
     "metadata": {},
     "output_type": "display_data"
    },
    {
     "data": {
      "application/vnd.jupyter.widget-view+json": {
       "model_id": "c9ace4a4beee4266882e0affe93da6c8",
       "version_major": 2,
       "version_minor": 0
      },
      "text/plain": [
       "HTML(value='')"
      ]
     },
     "metadata": {},
     "output_type": "display_data"
    },
    {
     "data": {
      "application/vnd.jupyter.widget-view+json": {
       "model_id": "614ae320d55e422b9321999d7ac748f8",
       "version_major": 2,
       "version_minor": 0
      },
      "text/plain": [
       "  0%|          | 0/104885 [00:00<?, ?it/s]"
      ]
     },
     "metadata": {},
     "output_type": "display_data"
    },
    {
     "data": {
      "application/vnd.jupyter.widget-view+json": {
       "model_id": "d031fcdd0e434da18885f7f492651849",
       "version_major": 2,
       "version_minor": 0
      },
      "text/plain": [
       "  0%|          | 0/104885 [00:00<?, ?it/s]"
      ]
     },
     "metadata": {},
     "output_type": "display_data"
    },
    {
     "data": {
      "application/vnd.jupyter.widget-view+json": {
       "model_id": "4ab6a5f0718646208e6da5c630770389",
       "version_major": 2,
       "version_minor": 0
      },
      "text/plain": [
       "  0%|          | 0/104885 [00:00<?, ?it/s]"
      ]
     },
     "metadata": {},
     "output_type": "display_data"
    },
    {
     "data": {
      "application/vnd.jupyter.widget-view+json": {
       "model_id": "8f0ddb19e9714105951cfe1685b155e1",
       "version_major": 2,
       "version_minor": 0
      },
      "text/plain": [
       "  0%|          | 0/104885 [00:00<?, ?it/s]"
      ]
     },
     "metadata": {},
     "output_type": "display_data"
    },
    {
     "data": {
      "application/vnd.jupyter.widget-view+json": {
       "model_id": "037e8c987faa4ccaae6215dc63964a77",
       "version_major": 2,
       "version_minor": 0
      },
      "text/plain": [
       "  0%|          | 0/104885 [00:00<?, ?it/s]"
      ]
     },
     "metadata": {},
     "output_type": "display_data"
    },
    {
     "name": "stdout",
     "output_type": "stream",
     "text": [
      "Imputing alklimaHeatPump - op_mode\n"
     ]
    },
    {
     "data": {
      "application/vnd.jupyter.widget-view+json": {
       "model_id": "0ca88c753c1d49c8a7d2b052e91eb794",
       "version_major": 2,
       "version_minor": 0
      },
      "text/plain": [
       "Dropdown(description='Config:', options=('factory zero', 'knmi'), value='factory zero')"
      ]
     },
     "metadata": {},
     "output_type": "display_data"
    },
    {
     "data": {
      "application/vnd.jupyter.widget-view+json": {
       "model_id": "68cb6291240f4063a1c41e0200550d31",
       "version_major": 2,
       "version_minor": 0
      },
      "text/plain": [
       "Tab(children=(VBox(children=(HTML(value='Uploaded file selector:'), HBox(children=(Dropdown(options=('021.xlsx…"
      ]
     },
     "metadata": {},
     "output_type": "display_data"
    },
    {
     "data": {
      "application/vnd.jupyter.widget-view+json": {
       "model_id": "f20b663e306a4bd4ac933438ea4e4280",
       "version_major": 2,
       "version_minor": 0
      },
      "text/plain": [
       "Tab(children=(VBox(children=(VBox(children=(HTML(value='Columns type:'), RadioButtons(options=('features', 'ta…"
      ]
     },
     "metadata": {},
     "output_type": "display_data"
    },
    {
     "data": {
      "application/vnd.jupyter.widget-view+json": {
       "model_id": "8ef36a412eb243babc1c41c2caa7b824",
       "version_major": 2,
       "version_minor": 0
      },
      "text/plain": [
       "HTML(value='')"
      ]
     },
     "metadata": {},
     "output_type": "display_data"
    },
    {
     "data": {
      "application/vnd.jupyter.widget-view+json": {
       "model_id": "9e34e1a0d77f4998bb916a6223a9b0c4",
       "version_major": 2,
       "version_minor": 0
      },
      "text/plain": [
       "  0%|          | 0/103942 [00:00<?, ?it/s]"
      ]
     },
     "metadata": {},
     "output_type": "display_data"
    },
    {
     "data": {
      "application/vnd.jupyter.widget-view+json": {
       "model_id": "67644fdd68ca44788cafdfb631fe1d8a",
       "version_major": 2,
       "version_minor": 0
      },
      "text/plain": [
       "  0%|          | 0/103942 [00:00<?, ?it/s]"
      ]
     },
     "metadata": {},
     "output_type": "display_data"
    },
    {
     "data": {
      "application/vnd.jupyter.widget-view+json": {
       "model_id": "78458a146a1042dd98c8b8f38fd07251",
       "version_major": 2,
       "version_minor": 0
      },
      "text/plain": [
       "  0%|          | 0/103942 [00:00<?, ?it/s]"
      ]
     },
     "metadata": {},
     "output_type": "display_data"
    },
    {
     "data": {
      "application/vnd.jupyter.widget-view+json": {
       "model_id": "5e06ceb11f7a41eab8b4c60feabd5f7a",
       "version_major": 2,
       "version_minor": 0
      },
      "text/plain": [
       "  0%|          | 0/103942 [00:00<?, ?it/s]"
      ]
     },
     "metadata": {},
     "output_type": "display_data"
    },
    {
     "data": {
      "application/vnd.jupyter.widget-view+json": {
       "model_id": "adac2bfeb654480889d874780e54cbea",
       "version_major": 2,
       "version_minor": 0
      },
      "text/plain": [
       "  0%|          | 0/103942 [00:00<?, ?it/s]"
      ]
     },
     "metadata": {},
     "output_type": "display_data"
    },
    {
     "name": "stdout",
     "output_type": "stream",
     "text": [
      "Imputing smartMeter - power\n"
     ]
    },
    {
     "data": {
      "application/vnd.jupyter.widget-view+json": {
       "model_id": "fdce2705f7bd4e4fae778be78b0d28c0",
       "version_major": 2,
       "version_minor": 0
      },
      "text/plain": [
       "Dropdown(description='Config:', options=('factory zero', 'knmi'), value='factory zero')"
      ]
     },
     "metadata": {},
     "output_type": "display_data"
    },
    {
     "data": {
      "application/vnd.jupyter.widget-view+json": {
       "model_id": "18650e12d975491db2ab90e27eea1570",
       "version_major": 2,
       "version_minor": 0
      },
      "text/plain": [
       "Tab(children=(VBox(children=(HTML(value='Uploaded file selector:'), HBox(children=(Dropdown(options=('021.xlsx…"
      ]
     },
     "metadata": {},
     "output_type": "display_data"
    },
    {
     "data": {
      "application/vnd.jupyter.widget-view+json": {
       "model_id": "b47c6a74ae984de0aa4e2704d3e74d90",
       "version_major": 2,
       "version_minor": 0
      },
      "text/plain": [
       "Tab(children=(VBox(children=(VBox(children=(HTML(value='Columns type:'), RadioButtons(options=('features', 'ta…"
      ]
     },
     "metadata": {},
     "output_type": "display_data"
    },
    {
     "data": {
      "application/vnd.jupyter.widget-view+json": {
       "model_id": "da23881f5c69435ca25dce39de6073fc",
       "version_major": 2,
       "version_minor": 0
      },
      "text/plain": [
       "HTML(value='')"
      ]
     },
     "metadata": {},
     "output_type": "display_data"
    },
    {
     "data": {
      "application/vnd.jupyter.widget-view+json": {
       "model_id": "4826beeacb1d4bb0bc6da0a7793fce13",
       "version_major": 2,
       "version_minor": 0
      },
      "text/plain": [
       "  0%|          | 0/103294 [00:00<?, ?it/s]"
      ]
     },
     "metadata": {},
     "output_type": "display_data"
    },
    {
     "data": {
      "application/vnd.jupyter.widget-view+json": {
       "model_id": "fa3288246f184256b4f8f3342c6b118f",
       "version_major": 2,
       "version_minor": 0
      },
      "text/plain": [
       "  0%|          | 0/103294 [00:00<?, ?it/s]"
      ]
     },
     "metadata": {},
     "output_type": "display_data"
    },
    {
     "data": {
      "application/vnd.jupyter.widget-view+json": {
       "model_id": "8f7a329104334cd0bca26c2f66b82664",
       "version_major": 2,
       "version_minor": 0
      },
      "text/plain": [
       "  0%|          | 0/103294 [00:00<?, ?it/s]"
      ]
     },
     "metadata": {},
     "output_type": "display_data"
    },
    {
     "data": {
      "application/vnd.jupyter.widget-view+json": {
       "model_id": "8ce51e8cb03d4200806f5c68af7954f9",
       "version_major": 2,
       "version_minor": 0
      },
      "text/plain": [
       "  0%|          | 0/103294 [00:00<?, ?it/s]"
      ]
     },
     "metadata": {},
     "output_type": "display_data"
    },
    {
     "data": {
      "application/vnd.jupyter.widget-view+json": {
       "model_id": "1f1ad3b2a5124f33be50f7bfffcd95f6",
       "version_major": 2,
       "version_minor": 0
      },
      "text/plain": [
       "  0%|          | 0/103294 [00:00<?, ?it/s]"
      ]
     },
     "metadata": {},
     "output_type": "display_data"
    },
    {
     "name": "stdout",
     "output_type": "stream",
     "text": [
      "Imputing co2sensor - co2\n"
     ]
    },
    {
     "data": {
      "application/vnd.jupyter.widget-view+json": {
       "model_id": "42bf35e11215448c91547a1d370acd3e",
       "version_major": 2,
       "version_minor": 0
      },
      "text/plain": [
       "Dropdown(description='Config:', options=('factory zero', 'knmi'), value='factory zero')"
      ]
     },
     "metadata": {},
     "output_type": "display_data"
    },
    {
     "data": {
      "application/vnd.jupyter.widget-view+json": {
       "model_id": "f0c9d1fde29b4b8f9429ba7d6bd82c6d",
       "version_major": 2,
       "version_minor": 0
      },
      "text/plain": [
       "Tab(children=(VBox(children=(HTML(value='Uploaded file selector:'), HBox(children=(Dropdown(options=('021.xlsx…"
      ]
     },
     "metadata": {},
     "output_type": "display_data"
    },
    {
     "data": {
      "application/vnd.jupyter.widget-view+json": {
       "model_id": "3b8ac6ed201c4e8981688a0b3836ca93",
       "version_major": 2,
       "version_minor": 0
      },
      "text/plain": [
       "Tab(children=(VBox(children=(VBox(children=(HTML(value='Columns type:'), RadioButtons(options=('features', 'ta…"
      ]
     },
     "metadata": {},
     "output_type": "display_data"
    },
    {
     "data": {
      "application/vnd.jupyter.widget-view+json": {
       "model_id": "7d12ffc4ee6b40728c1c2898b22f08f8",
       "version_major": 2,
       "version_minor": 0
      },
      "text/plain": [
       "HTML(value='')"
      ]
     },
     "metadata": {},
     "output_type": "display_data"
    },
    {
     "data": {
      "application/vnd.jupyter.widget-view+json": {
       "model_id": "8f428f3d74944f85b0ac4fa3afb5e111",
       "version_major": 2,
       "version_minor": 0
      },
      "text/plain": [
       "  0%|          | 0/105074 [00:00<?, ?it/s]"
      ]
     },
     "metadata": {},
     "output_type": "display_data"
    },
    {
     "data": {
      "application/vnd.jupyter.widget-view+json": {
       "model_id": "96a14efbbfb34a0ea5f8a65f2b05b96b",
       "version_major": 2,
       "version_minor": 0
      },
      "text/plain": [
       "  0%|          | 0/105074 [00:00<?, ?it/s]"
      ]
     },
     "metadata": {},
     "output_type": "display_data"
    },
    {
     "data": {
      "application/vnd.jupyter.widget-view+json": {
       "model_id": "d7cad53f61c94251afb2137ca6d956e7",
       "version_major": 2,
       "version_minor": 0
      },
      "text/plain": [
       "  0%|          | 0/105074 [00:00<?, ?it/s]"
      ]
     },
     "metadata": {},
     "output_type": "display_data"
    },
    {
     "data": {
      "application/vnd.jupyter.widget-view+json": {
       "model_id": "0d933f726701459fbd1f0409a367ec3f",
       "version_major": 2,
       "version_minor": 0
      },
      "text/plain": [
       "  0%|          | 0/105074 [00:00<?, ?it/s]"
      ]
     },
     "metadata": {},
     "output_type": "display_data"
    },
    {
     "data": {
      "application/vnd.jupyter.widget-view+json": {
       "model_id": "ac2f367bb1354b698ef1d0f49b62c889",
       "version_major": 2,
       "version_minor": 0
      },
      "text/plain": [
       "  0%|          | 0/105074 [00:00<?, ?it/s]"
      ]
     },
     "metadata": {},
     "output_type": "display_data"
    }
   ],
   "source": [
    "from pipetorch import flight_passengers\n",
    "from pipetorch.train import *\n",
    "from pipetorch.data import PTDataFrame\n",
    "import time\n",
    "from datetime import datetime, timedelta\n",
    "from sklearn.metrics import *\n",
    "from sklearn.preprocessing import StandardScaler\n",
    "from trainer.DataFrameLoader import *\n",
    "import sys\n",
    "import ipywidgets as widgets\n",
    "import random\n",
    "from tqdm.notebook import trange\n",
    "import json\n",
    "\n",
    "rnn_config = {\n",
    "  \"random_state\": 0,\n",
    "  \"batch_size\": 5,\n",
    "  \"input_window_size\": 12,\n",
    "  \"output_window_size\": 1,\n",
    "  \"hidden_size\": 95,\n",
    "  \"num_layers\": 1,\n",
    "  \"loss\": \"MSELoss\",\n",
    "  \"rnn\": \"GRU\"\n",
    "}\n",
    "\n",
    "\n",
    "def factoryzero_date_parser(df: pd.DataFrame) -> pd.DataFrame:\n",
    "    df[\"Timestamp\"] = pd.to_datetime(df[\"Timestamp\"], unit='s').round('min')\n",
    "    df = df.set_index(\"Timestamp\")\n",
    "    return df\n",
    "\n",
    "\n",
    "def knmi_date_parser(df: pd.DataFrame) -> pd.DataFrame:\n",
    "    df = df.set_index([\"Date(YYYYMMDD)\", \"Hour\"])\n",
    "    def transform_index(index):\n",
    "        date, hour = index\n",
    "        return pd.to_datetime(str(date) + str(hour - 1), format='%Y%m%d%H')\n",
    "    df = df.set_index(df.index.map(transform_index))\n",
    "    return df\n",
    "\n",
    "\n",
    "to_impute = [\n",
    "    {\n",
    "        \"conf\": \"knmi\",\n",
    "        \"file\": \"260 De Bilt.csv\",\n",
    "        \"date_parser\": knmi_date_parser,\n",
    "        \"target\": (\"0\", \"Temperature\"),\n",
    "        \"features\": [\n",
    "            (\"0\", \"Temperature\"),\n",
    "            (\"0\", \"Global Radiation\"),\n",
    "            (\"0\", \"Dew Temperature\"),\n",
    "            (\"0\", \"Relative atmospheric humidity\")\n",
    "        ]\n",
    "    },\n",
    "    {\n",
    "        \"conf\": \"knmi\",\n",
    "        \"file\": \"260 De Bilt.csv\",\n",
    "        \"date_parser\": knmi_date_parser,\n",
    "        \"target\": (\"0\", \"Relative atmospheric humidity\"),\n",
    "        \"features\": [\n",
    "            (\"0\", \"Relative atmospheric humidity\"),\n",
    "            (\"0\", \"Sunshine duration\"),\n",
    "            (\"0\", \"Global Radiation\"),\n",
    "            (\"0\", \"Horizontal visibility\")\n",
    "        ]\n",
    "    },\n",
    "    {\n",
    "        \"conf\": \"knmi\",\n",
    "        \"file\": \"260 De Bilt.csv\",\n",
    "        \"date_parser\": knmi_date_parser,\n",
    "        \"target\": (\"0\", \"Global Radiation\"),\n",
    "        \"features\": [\n",
    "            (\"0\", \"Global Radiation\"),\n",
    "            (\"0\", \"Relative atmospheric humidity\"),\n",
    "            (\"0\", \"Temperature\"),\n",
    "            (\"0\", \"Sunshine duration\")\n",
    "        ]\n",
    "    },\n",
    "    {\n",
    "        \"conf\": \"factory zero\",\n",
    "        \"file\": \"099.xlsx\",\n",
    "        \"date_parser\": factoryzero_date_parser,\n",
    "        \"target\": (\"alklimaHeatPump\", \"flow_temp\"),\n",
    "        \"features\": [\n",
    "            (\"alklimaHeatPump\", \"flow_temp\"),\n",
    "            (\"alklimaHeatPump\", \"return_temp\"),\n",
    "            (\"energyHeatpump\", \"power\")\n",
    "        ]\n",
    "    },\n",
    "    {\n",
    "        \"conf\": \"factory zero\",\n",
    "        \"file\": \"099.xlsx\",\n",
    "        \"date_parser\": factoryzero_date_parser,\n",
    "        \"target\": (\"alklimaHeatPump\", \"op_mode\"),\n",
    "        \"features\": [\n",
    "            (\"alklimaHeatPump\", \"op_mode\"),\n",
    "            (\"ventilation\", \"outdoor_temp\")\n",
    "        ]\n",
    "    },\n",
    "    {\n",
    "        \"conf\": \"factory zero\",\n",
    "        \"file\": \"099.xlsx\",\n",
    "        \"date_parser\": factoryzero_date_parser,\n",
    "        \"target\": (\"smartMeter\", \"power\"),\n",
    "        \"features\": [\n",
    "            (\"smartMeter\", \"power\"),\n",
    "            (\"ventilation\", \"outdoor_temp\"),\n",
    "            (\"ventilation\", \"room_temp\"),\n",
    "            (\"solar\", \"power\")\n",
    "        ]\n",
    "    },\n",
    "    {\n",
    "        \"conf\": \"factory zero\",\n",
    "        \"file\": \"099.xlsx\",\n",
    "        \"date_parser\": factoryzero_date_parser,\n",
    "        \"target\": (\"co2sensor\", \"co2\"),\n",
    "        \"features\": [\n",
    "            (\"co2sensor\", \"co2\")\n",
    "        ]\n",
    "    }\n",
    "]\n",
    "\n",
    "\n",
    "def to_sequence(x, y, input_window, output_window, device=torch.device('cpu')):\n",
    "    num_samples = x.shape[0] - input_window - output_window\n",
    "    def generator():\n",
    "        nonlocal num_samples, x, y, input_window, output_window, device\n",
    "        for i in range(num_samples):\n",
    "            start_x = i\n",
    "            end_x = start_x + input_window\n",
    "            X = x[start_x:end_x].values[:]\n",
    "\n",
    "            start_y = i + input_window\n",
    "            end_y = start_y + output_window\n",
    "            Y = y[start_y:end_y].values[:]\n",
    "\n",
    "            X_tensor = torch.from_numpy(np.array([X], dtype=np.float32)).to(device)\n",
    "            Y_tensor = torch.from_numpy(np.array([Y], dtype=np.float32)).to(device)\n",
    "            yield X_tensor, Y_tensor\n",
    "    return num_samples, generator()\n",
    "\n",
    "df = None\n",
    "dfs_with_gaps = []\n",
    "imputed_dfs = []\n",
    "\n",
    "for field in to_impute:\n",
    "    print(f\"Imputing {field['target'][0]} - {field['target'][1]}\")\n",
    "    # Set random state\n",
    "    torch.manual_seed(rnn_config[\"random_state\"])\n",
    "    np.random.seed(rnn_config[\"random_state\"])\n",
    "    random.seed(rnn_config[\"random_state\"])\n",
    "\n",
    "    devNullOutput = widgets.Output()\n",
    "\n",
    "    # Load the data\n",
    "    %run helpers/load_data.ipynb\n",
    "    config_select.value = field[\"conf\"]\n",
    "    file_select.value = field[\"file\"]\n",
    "\n",
    "    dfloader.add_targets(field['target'][1], sheet_name=field['target'][0])\n",
    "    for feature in field['features']:\n",
    "        dfloader.add_features(feature[1], sheet_name=feature[0])\n",
    "\n",
    "#     time_column_name = \"Timestamp\"\n",
    "#     dfloader.add_index_as_feature(time_column_name)\n",
    "\n",
    "    df = dfloader.df\n",
    "    # drop nan values\n",
    "    df.dropna(axis = 0, inplace = True)\n",
    "\n",
    "#     def roundTime(dt=None, roundTo=100):\n",
    "#         # Converting numpy.datetime64 to datetime.datetime\n",
    "#         ts = pd.Timestamp(dt)\n",
    "#         dt = ts.to_pydatetime()\n",
    "#         seconds = (dt.replace(tzinfo=None) - dt.min).seconds\n",
    "#         rounding = (seconds + roundTo / 2) // roundTo * roundTo\n",
    "#         return dt + timedelta(0, rounding - seconds, -dt.microsecond)\n",
    "\n",
    "#     df[time_column_name] = df[time_column_name].apply(roundTime)\n",
    "#     df[time_column_name] = pd.to_numeric(df[time_column_name])\n",
    "    \n",
    "    # Define the model\n",
    "    class RNN(nn.Module):\n",
    "        def __init__(self, input_size, hidden_size=100, num_layers=1, output_size=1, rnn=nn.LSTM):\n",
    "            super().__init__()\n",
    "            self.l1 = rnn(input_size, hidden_size, num_layers, batch_first=True)\n",
    "            self.l2 = nn.Linear(hidden_size, output_size)\n",
    "\n",
    "        def forward(self, X):\n",
    "            h, _ = self.l1(X)\n",
    "            h = h[:,-1, :]\n",
    "            y = self.l2(h)\n",
    "            y = y + X[:,-1,-1:]\n",
    "            return y\n",
    "\n",
    "    rnns = {m.__name__: m for m in [nn.LSTM, nn.GRU]}\n",
    "    model = RNN(\n",
    "        input_size=len(df.columns),\n",
    "        hidden_size=rnn_config[\"hidden_size\"],\n",
    "        num_layers=rnn_config[\"num_layers\"],\n",
    "        output_size=1,\n",
    "        rnn=rnns[rnn_config[\"rnn\"]]\n",
    "    )\n",
    "    model_file = f'../models/models-with-none/rnn-{field[\"target\"][1].replace(\" \", \"_\")}.pt'\n",
    "    model.load_state_dict(torch.load(model_file, map_location=torch.device('cpu')))\n",
    "\n",
    "    # Create gaps\n",
    "    %run helpers/create_gaps.ipynb\n",
    "\n",
    "    imputed_dfs = []\n",
    "    imputer_configs = []\n",
    "    imputer = {\n",
    "        'title': 'RNN'\n",
    "    }\n",
    "    imputation_date = datetime.now().replace(second=0, microsecond=0)\n",
    "    random_state = rnn_config[\"random_state\"]\n",
    "\n",
    "    iw = rnn_config[\"input_window_size\"]\n",
    "    ow = rnn_config[\"output_window_size\"]\n",
    "\n",
    "    for i in range(len(dfs_with_gaps)):\n",
    "        df_with_gaps = dfs_with_gaps[i]\n",
    "        imputer_configs.append(json.dumps(rnn_config))\n",
    "        scaler = StandardScaler()\n",
    "        data = pd.DataFrame(data=scaler.fit_transform(df_with_gaps.values), columns=df_with_gaps.columns, index=df_with_gaps.index)\n",
    "        x = data[dfloader.features]\n",
    "        # interpolate nan values in the first `input_window_size` rows, as they cannot be imputed using RNN (no valid input sequence)\n",
    "        x.iloc[:iw] = x.iloc[:iw].interpolate(method='time', limit_direction=\"both\")\n",
    "        y = data[dfloader.targets]\n",
    "        num_samples, sequence = to_sequence(x, y, iw, ow)\n",
    "        with trange(num_samples) as tr:\n",
    "            for i in tr:\n",
    "                X, Y = next(sequence)\n",
    "                if not np.isnan(Y): # does not needs prediction\n",
    "                    continue\n",
    "                y_index = x.index[i + iw]\n",
    "                x.loc[y_index, dfloader.targets[0]] = model(X).item()\n",
    "        imputed_df = pd.DataFrame(data=scaler.inverse_transform(x.values), columns=df_with_gaps.columns, index=df_with_gaps.index)\n",
    "        imputed_dfs.append(imputed_df)\n",
    "\n",
    "    with devNullOutput:\n",
    "        %run helpers/evaluate.ipynb\n",
    "        %run helpers/saving.ipynb\n",
    "        save_eval_btn.click()\n",
    "        save_seperatly_btn.click()"
   ]
  },
  {
   "cell_type": "code",
   "execution_count": 3,
   "id": "32e5f4f5",
   "metadata": {},
   "outputs": [],
   "source": [
    "!cp -r saved_results saved_results_`date +%s`"
   ]
  },
  {
   "cell_type": "code",
   "execution_count": null,
   "id": "0c300d4b",
   "metadata": {},
   "outputs": [],
   "source": []
  }
 ],
 "metadata": {
  "kernelspec": {
   "display_name": "Python 3 (ipykernel)",
   "language": "python",
   "name": "python3"
  },
  "language_info": {
   "codemirror_mode": {
    "name": "ipython",
    "version": 3
   },
   "file_extension": ".py",
   "mimetype": "text/x-python",
   "name": "python",
   "nbconvert_exporter": "python",
   "pygments_lexer": "ipython3",
   "version": "3.8.8"
  }
 },
 "nbformat": 4,
 "nbformat_minor": 5
}
