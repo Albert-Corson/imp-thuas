{
 "cells": [
  {
   "cell_type": "markdown",
   "id": "b28088a3",
   "metadata": {},
   "source": [
    "# Pipeline\n",
    "\n",
    "This pipeline is intended to simplify to whole process of loading a dataset, creating gaps of different types in it, imputing the missing data and evaluating the imputation method.\n",
    "You may want to edit the cells preceded by an <span style=\"color: red\">**EDIT:**</span> sign to fit your needs.\n",
    "\n",
    "## Install dependencies"
   ]
  },
  {
   "cell_type": "code",
   "execution_count": null,
   "id": "4746a805",
   "metadata": {
    "scrolled": false,
    "tags": [
     "hide_output"
    ]
   },
   "outputs": [],
   "source": [
    "!pip install openpyxl > /dev/null 2>&1\n",
    "!pip install jupyterlab-widgets > /dev/null 2>&1\n",
    "!pip install jsfileupload > /dev/null 2>&1\n",
    "!pip install pyxlsb > /dev/null 2>&1\n",
    "!pip install sklearn > /dev/null 2>&1\n",
    "!pip install scipy > /dev/null 2>&1\n",
    "!pip install scikit_learn > /dev/null 2>&1\n",
    "!pip install missingpy > /dev/null 2>&1\n",
    "!pip install fancyimpute > /dev/null 2>&1"
   ]
  },
  {
   "cell_type": "markdown",
   "id": "ef0ed199",
   "metadata": {},
   "source": [
    "## Run the imputations"
   ]
  },
  {
   "cell_type": "code",
   "execution_count": null,
   "id": "47757cbb",
   "metadata": {
    "scrolled": false
   },
   "outputs": [
    {
     "name": "stdout",
     "output_type": "stream",
     "text": [
      "Imputing 0 - Temperature\n"
     ]
    },
    {
     "data": {
      "application/vnd.jupyter.widget-view+json": {
       "model_id": "f50c7ec57bca4ec3af7dd7021f532f24",
       "version_major": 2,
       "version_minor": 0
      },
      "text/plain": [
       "Dropdown(description='Config:', options=('factory zero', 'knmi'), value='factory zero')"
      ]
     },
     "metadata": {},
     "output_type": "display_data"
    },
    {
     "data": {
      "application/vnd.jupyter.widget-view+json": {
       "model_id": "b9c7b76e3f4b429cba868fe10ed58120",
       "version_major": 2,
       "version_minor": 0
      },
      "text/plain": [
       "Tab(children=(VBox(children=(HTML(value='Uploaded file selector:'), HBox(children=(Dropdown(options=('021.xlsx…"
      ]
     },
     "metadata": {},
     "output_type": "display_data"
    },
    {
     "data": {
      "application/vnd.jupyter.widget-view+json": {
       "model_id": "e4ea19cff8ea4756bf601c8a9c31c20b",
       "version_major": 2,
       "version_minor": 0
      },
      "text/plain": [
       "Tab(children=(VBox(children=(VBox(children=(HTML(value='Columns type:'), RadioButtons(options=('features', 'ta…"
      ]
     },
     "metadata": {},
     "output_type": "display_data"
    },
    {
     "data": {
      "application/vnd.jupyter.widget-view+json": {
       "model_id": "e13c7d9d5c77474d94f08952564a7195",
       "version_major": 2,
       "version_minor": 0
      },
      "text/plain": [
       "HTML(value='')"
      ]
     },
     "metadata": {},
     "output_type": "display_data"
    },
    {
     "data": {
      "application/vnd.jupyter.widget-view+json": {
       "model_id": "b2620310ee2a441c9275a39f1d95031d",
       "version_major": 2,
       "version_minor": 0
      },
      "text/plain": [
       "  0%|          | 0/17531 [00:00<?, ?it/s]"
      ]
     },
     "metadata": {},
     "output_type": "display_data"
    },
    {
     "data": {
      "application/vnd.jupyter.widget-view+json": {
       "model_id": "734aa5bcb37740068870c8a80d2a4188",
       "version_major": 2,
       "version_minor": 0
      },
      "text/plain": [
       "  0%|          | 0/17531 [00:00<?, ?it/s]"
      ]
     },
     "metadata": {},
     "output_type": "display_data"
    },
    {
     "data": {
      "application/vnd.jupyter.widget-view+json": {
       "model_id": "4dd05cd7659446e09adf1a58432fdef5",
       "version_major": 2,
       "version_minor": 0
      },
      "text/plain": [
       "  0%|          | 0/17531 [00:00<?, ?it/s]"
      ]
     },
     "metadata": {},
     "output_type": "display_data"
    },
    {
     "data": {
      "application/vnd.jupyter.widget-view+json": {
       "model_id": "d7dc7f49d59846d98ee20632ffad0b81",
       "version_major": 2,
       "version_minor": 0
      },
      "text/plain": [
       "  0%|          | 0/17531 [00:00<?, ?it/s]"
      ]
     },
     "metadata": {},
     "output_type": "display_data"
    },
    {
     "name": "stdout",
     "output_type": "stream",
     "text": [
      "Imputing 0 - Relative atmospheric humidity\n"
     ]
    },
    {
     "data": {
      "application/vnd.jupyter.widget-view+json": {
       "model_id": "2c30a15018994f51a0753d071fc5e678",
       "version_major": 2,
       "version_minor": 0
      },
      "text/plain": [
       "Dropdown(description='Config:', options=('factory zero', 'knmi'), value='factory zero')"
      ]
     },
     "metadata": {},
     "output_type": "display_data"
    },
    {
     "data": {
      "application/vnd.jupyter.widget-view+json": {
       "model_id": "50775b9501ac44c2a2b05ccf3679e866",
       "version_major": 2,
       "version_minor": 0
      },
      "text/plain": [
       "Tab(children=(VBox(children=(HTML(value='Uploaded file selector:'), HBox(children=(Dropdown(options=('021.xlsx…"
      ]
     },
     "metadata": {},
     "output_type": "display_data"
    },
    {
     "data": {
      "application/vnd.jupyter.widget-view+json": {
       "model_id": "6dc3237c6ccf431983d31e6d4ca3e487",
       "version_major": 2,
       "version_minor": 0
      },
      "text/plain": [
       "Tab(children=(VBox(children=(VBox(children=(HTML(value='Columns type:'), RadioButtons(options=('features', 'ta…"
      ]
     },
     "metadata": {},
     "output_type": "display_data"
    },
    {
     "data": {
      "application/vnd.jupyter.widget-view+json": {
       "model_id": "4316188f2f7e4634a8c409dfc4a24190",
       "version_major": 2,
       "version_minor": 0
      },
      "text/plain": [
       "HTML(value='')"
      ]
     },
     "metadata": {},
     "output_type": "display_data"
    },
    {
     "data": {
      "application/vnd.jupyter.widget-view+json": {
       "model_id": "0ff72a57ced14ff6aa155a8fa6b70d08",
       "version_major": 2,
       "version_minor": 0
      },
      "text/plain": [
       "  0%|          | 0/17531 [00:00<?, ?it/s]"
      ]
     },
     "metadata": {},
     "output_type": "display_data"
    },
    {
     "data": {
      "application/vnd.jupyter.widget-view+json": {
       "model_id": "b03322ec931f40cb89b8f337033a946a",
       "version_major": 2,
       "version_minor": 0
      },
      "text/plain": [
       "  0%|          | 0/17531 [00:00<?, ?it/s]"
      ]
     },
     "metadata": {},
     "output_type": "display_data"
    },
    {
     "data": {
      "application/vnd.jupyter.widget-view+json": {
       "model_id": "7862ad9a79274becb77ad0413f1c1313",
       "version_major": 2,
       "version_minor": 0
      },
      "text/plain": [
       "  0%|          | 0/17531 [00:00<?, ?it/s]"
      ]
     },
     "metadata": {},
     "output_type": "display_data"
    },
    {
     "data": {
      "application/vnd.jupyter.widget-view+json": {
       "model_id": "ca3dbe57d22d45feb42e05277830417e",
       "version_major": 2,
       "version_minor": 0
      },
      "text/plain": [
       "  0%|          | 0/17531 [00:00<?, ?it/s]"
      ]
     },
     "metadata": {},
     "output_type": "display_data"
    },
    {
     "name": "stdout",
     "output_type": "stream",
     "text": [
      "Imputing 0 - Global Radiation\n"
     ]
    },
    {
     "data": {
      "application/vnd.jupyter.widget-view+json": {
       "model_id": "fb3ae487812e47a1b62ce2f96401848a",
       "version_major": 2,
       "version_minor": 0
      },
      "text/plain": [
       "Dropdown(description='Config:', options=('factory zero', 'knmi'), value='factory zero')"
      ]
     },
     "metadata": {},
     "output_type": "display_data"
    },
    {
     "data": {
      "application/vnd.jupyter.widget-view+json": {
       "model_id": "92ea76dd40214b179dfbc11f43d96bb0",
       "version_major": 2,
       "version_minor": 0
      },
      "text/plain": [
       "Tab(children=(VBox(children=(HTML(value='Uploaded file selector:'), HBox(children=(Dropdown(options=('021.xlsx…"
      ]
     },
     "metadata": {},
     "output_type": "display_data"
    },
    {
     "data": {
      "application/vnd.jupyter.widget-view+json": {
       "model_id": "3f13bacc97314209a8759942c0e6d308",
       "version_major": 2,
       "version_minor": 0
      },
      "text/plain": [
       "Tab(children=(VBox(children=(VBox(children=(HTML(value='Columns type:'), RadioButtons(options=('features', 'ta…"
      ]
     },
     "metadata": {},
     "output_type": "display_data"
    },
    {
     "data": {
      "application/vnd.jupyter.widget-view+json": {
       "model_id": "6abdbbe15e6d44b5993508beb32b52e8",
       "version_major": 2,
       "version_minor": 0
      },
      "text/plain": [
       "HTML(value='')"
      ]
     },
     "metadata": {},
     "output_type": "display_data"
    },
    {
     "data": {
      "application/vnd.jupyter.widget-view+json": {
       "model_id": "3133519042b7467a8ec184b789807130",
       "version_major": 2,
       "version_minor": 0
      },
      "text/plain": [
       "  0%|          | 0/17531 [00:00<?, ?it/s]"
      ]
     },
     "metadata": {},
     "output_type": "display_data"
    },
    {
     "data": {
      "application/vnd.jupyter.widget-view+json": {
       "model_id": "d83d9825b1ea4b599f9bae1f965f97bb",
       "version_major": 2,
       "version_minor": 0
      },
      "text/plain": [
       "  0%|          | 0/17531 [00:00<?, ?it/s]"
      ]
     },
     "metadata": {},
     "output_type": "display_data"
    },
    {
     "data": {
      "application/vnd.jupyter.widget-view+json": {
       "model_id": "c9a1328060244116b05644973baf722a",
       "version_major": 2,
       "version_minor": 0
      },
      "text/plain": [
       "  0%|          | 0/17531 [00:00<?, ?it/s]"
      ]
     },
     "metadata": {},
     "output_type": "display_data"
    },
    {
     "data": {
      "application/vnd.jupyter.widget-view+json": {
       "model_id": "324bf847bb57424281346e1c6f8bd055",
       "version_major": 2,
       "version_minor": 0
      },
      "text/plain": [
       "  0%|          | 0/17531 [00:00<?, ?it/s]"
      ]
     },
     "metadata": {},
     "output_type": "display_data"
    },
    {
     "name": "stdout",
     "output_type": "stream",
     "text": [
      "Imputing alklimaHeatPump - flow_temp\n"
     ]
    },
    {
     "data": {
      "application/vnd.jupyter.widget-view+json": {
       "model_id": "a494b8c7992e432c8c73353f89cddd3d",
       "version_major": 2,
       "version_minor": 0
      },
      "text/plain": [
       "Dropdown(description='Config:', options=('factory zero', 'knmi'), value='factory zero')"
      ]
     },
     "metadata": {},
     "output_type": "display_data"
    },
    {
     "data": {
      "application/vnd.jupyter.widget-view+json": {
       "model_id": "4b1a2f953de54e519a6546c98b163e65",
       "version_major": 2,
       "version_minor": 0
      },
      "text/plain": [
       "Tab(children=(VBox(children=(HTML(value='Uploaded file selector:'), HBox(children=(Dropdown(options=('021.xlsx…"
      ]
     },
     "metadata": {},
     "output_type": "display_data"
    },
    {
     "data": {
      "application/vnd.jupyter.widget-view+json": {
       "model_id": "92ddc2011e3e486f9d7cb353dc2ef983",
       "version_major": 2,
       "version_minor": 0
      },
      "text/plain": [
       "Tab(children=(VBox(children=(VBox(children=(HTML(value='Columns type:'), RadioButtons(options=('features', 'ta…"
      ]
     },
     "metadata": {},
     "output_type": "display_data"
    },
    {
     "data": {
      "application/vnd.jupyter.widget-view+json": {
       "model_id": "22e70a66d0064b61a85cd21e2f20760a",
       "version_major": 2,
       "version_minor": 0
      },
      "text/plain": [
       "HTML(value='')"
      ]
     },
     "metadata": {},
     "output_type": "display_data"
    },
    {
     "data": {
      "application/vnd.jupyter.widget-view+json": {
       "model_id": "b03a0082dd9c4974aec606148e51a9cc",
       "version_major": 2,
       "version_minor": 0
      },
      "text/plain": [
       "  0%|          | 0/105075 [00:00<?, ?it/s]"
      ]
     },
     "metadata": {},
     "output_type": "display_data"
    },
    {
     "data": {
      "application/vnd.jupyter.widget-view+json": {
       "model_id": "9a63d3e0132342de967fffcce1340c2c",
       "version_major": 2,
       "version_minor": 0
      },
      "text/plain": [
       "  0%|          | 0/105075 [00:00<?, ?it/s]"
      ]
     },
     "metadata": {},
     "output_type": "display_data"
    },
    {
     "data": {
      "application/vnd.jupyter.widget-view+json": {
       "model_id": "34511596e9094a6f8112ca99ff46e3f3",
       "version_major": 2,
       "version_minor": 0
      },
      "text/plain": [
       "  0%|          | 0/105075 [00:00<?, ?it/s]"
      ]
     },
     "metadata": {},
     "output_type": "display_data"
    },
    {
     "data": {
      "application/vnd.jupyter.widget-view+json": {
       "model_id": "58ab15c2ec6046dd9355b2663dc4ad5f",
       "version_major": 2,
       "version_minor": 0
      },
      "text/plain": [
       "  0%|          | 0/105075 [00:00<?, ?it/s]"
      ]
     },
     "metadata": {},
     "output_type": "display_data"
    },
    {
     "data": {
      "application/vnd.jupyter.widget-view+json": {
       "model_id": "dde5a685fd6a48daa2b4c38e9cc01c51",
       "version_major": 2,
       "version_minor": 0
      },
      "text/plain": [
       "  0%|          | 0/105075 [00:00<?, ?it/s]"
      ]
     },
     "metadata": {},
     "output_type": "display_data"
    },
    {
     "name": "stdout",
     "output_type": "stream",
     "text": [
      "Imputing alklimaHeatPump - op_mode\n"
     ]
    },
    {
     "data": {
      "application/vnd.jupyter.widget-view+json": {
       "model_id": "d6765292f35f4367b6ef388fb98476c7",
       "version_major": 2,
       "version_minor": 0
      },
      "text/plain": [
       "Dropdown(description='Config:', options=('factory zero', 'knmi'), value='factory zero')"
      ]
     },
     "metadata": {},
     "output_type": "display_data"
    },
    {
     "data": {
      "application/vnd.jupyter.widget-view+json": {
       "model_id": "3a2a3d7f117f4804b54360bbdd9ea5cf",
       "version_major": 2,
       "version_minor": 0
      },
      "text/plain": [
       "Tab(children=(VBox(children=(HTML(value='Uploaded file selector:'), HBox(children=(Dropdown(options=('021.xlsx…"
      ]
     },
     "metadata": {},
     "output_type": "display_data"
    },
    {
     "data": {
      "application/vnd.jupyter.widget-view+json": {
       "model_id": "6ab61bbcc9d04533b0bedf0e0e469ce4",
       "version_major": 2,
       "version_minor": 0
      },
      "text/plain": [
       "Tab(children=(VBox(children=(VBox(children=(HTML(value='Columns type:'), RadioButtons(options=('features', 'ta…"
      ]
     },
     "metadata": {},
     "output_type": "display_data"
    },
    {
     "data": {
      "application/vnd.jupyter.widget-view+json": {
       "model_id": "aa9a3488db274f1c94ba0d6bb7feed7e",
       "version_major": 2,
       "version_minor": 0
      },
      "text/plain": [
       "HTML(value='')"
      ]
     },
     "metadata": {},
     "output_type": "display_data"
    },
    {
     "data": {
      "application/vnd.jupyter.widget-view+json": {
       "model_id": "09f14c089c4a455aa3c3df965f79329b",
       "version_major": 2,
       "version_minor": 0
      },
      "text/plain": [
       "  0%|          | 0/105073 [00:00<?, ?it/s]"
      ]
     },
     "metadata": {},
     "output_type": "display_data"
    },
    {
     "data": {
      "application/vnd.jupyter.widget-view+json": {
       "model_id": "6cd294d2eefc49f9beafe199d69ddd17",
       "version_major": 2,
       "version_minor": 0
      },
      "text/plain": [
       "  0%|          | 0/105073 [00:00<?, ?it/s]"
      ]
     },
     "metadata": {},
     "output_type": "display_data"
    },
    {
     "data": {
      "application/vnd.jupyter.widget-view+json": {
       "model_id": "47a752a82e5e42fba2ebf404e8c95024",
       "version_major": 2,
       "version_minor": 0
      },
      "text/plain": [
       "  0%|          | 0/105073 [00:00<?, ?it/s]"
      ]
     },
     "metadata": {},
     "output_type": "display_data"
    },
    {
     "data": {
      "application/vnd.jupyter.widget-view+json": {
       "model_id": "eba775cb94b24bba9f009e9561789462",
       "version_major": 2,
       "version_minor": 0
      },
      "text/plain": [
       "  0%|          | 0/105073 [00:00<?, ?it/s]"
      ]
     },
     "metadata": {},
     "output_type": "display_data"
    },
    {
     "data": {
      "application/vnd.jupyter.widget-view+json": {
       "model_id": "4f73c89f5dae4818928c93cc784837b8",
       "version_major": 2,
       "version_minor": 0
      },
      "text/plain": [
       "  0%|          | 0/105073 [00:00<?, ?it/s]"
      ]
     },
     "metadata": {},
     "output_type": "display_data"
    },
    {
     "name": "stdout",
     "output_type": "stream",
     "text": [
      "Imputing smartMeter - power\n"
     ]
    },
    {
     "data": {
      "application/vnd.jupyter.widget-view+json": {
       "model_id": "a7edf93c558c4161acba96894fa238e7",
       "version_major": 2,
       "version_minor": 0
      },
      "text/plain": [
       "Dropdown(description='Config:', options=('factory zero', 'knmi'), value='factory zero')"
      ]
     },
     "metadata": {},
     "output_type": "display_data"
    },
    {
     "data": {
      "application/vnd.jupyter.widget-view+json": {
       "model_id": "98c5dc509c094eee9fe0bdcfc7999cb4",
       "version_major": 2,
       "version_minor": 0
      },
      "text/plain": [
       "Tab(children=(VBox(children=(HTML(value='Uploaded file selector:'), HBox(children=(Dropdown(options=('021.xlsx…"
      ]
     },
     "metadata": {},
     "output_type": "display_data"
    },
    {
     "data": {
      "application/vnd.jupyter.widget-view+json": {
       "model_id": "b92774d33d77485bb456d21a0dcecd93",
       "version_major": 2,
       "version_minor": 0
      },
      "text/plain": [
       "Tab(children=(VBox(children=(VBox(children=(HTML(value='Columns type:'), RadioButtons(options=('features', 'ta…"
      ]
     },
     "metadata": {},
     "output_type": "display_data"
    },
    {
     "data": {
      "application/vnd.jupyter.widget-view+json": {
       "model_id": "8eb978a0f82d4f958015bfe352351758",
       "version_major": 2,
       "version_minor": 0
      },
      "text/plain": [
       "HTML(value='')"
      ]
     },
     "metadata": {},
     "output_type": "display_data"
    },
    {
     "data": {
      "application/vnd.jupyter.widget-view+json": {
       "model_id": "5257e748caa94f6594625169511ed640",
       "version_major": 2,
       "version_minor": 0
      },
      "text/plain": [
       "  0%|          | 0/105069 [00:00<?, ?it/s]"
      ]
     },
     "metadata": {},
     "output_type": "display_data"
    },
    {
     "data": {
      "application/vnd.jupyter.widget-view+json": {
       "model_id": "a78c5d7c2a5d46339a6f9f70cfb2b5f3",
       "version_major": 2,
       "version_minor": 0
      },
      "text/plain": [
       "  0%|          | 0/105069 [00:00<?, ?it/s]"
      ]
     },
     "metadata": {},
     "output_type": "display_data"
    },
    {
     "data": {
      "application/vnd.jupyter.widget-view+json": {
       "model_id": "faaeff54e2ea4aac8d8b9684d1e42791",
       "version_major": 2,
       "version_minor": 0
      },
      "text/plain": [
       "  0%|          | 0/105069 [00:00<?, ?it/s]"
      ]
     },
     "metadata": {},
     "output_type": "display_data"
    },
    {
     "data": {
      "application/vnd.jupyter.widget-view+json": {
       "model_id": "7573ba48cd2b4d2d950b411ddce6d030",
       "version_major": 2,
       "version_minor": 0
      },
      "text/plain": [
       "  0%|          | 0/105069 [00:00<?, ?it/s]"
      ]
     },
     "metadata": {},
     "output_type": "display_data"
    },
    {
     "data": {
      "application/vnd.jupyter.widget-view+json": {
       "model_id": "8d98e2d437fc4e28be1c7bae43810df7",
       "version_major": 2,
       "version_minor": 0
      },
      "text/plain": [
       "  0%|          | 0/105069 [00:00<?, ?it/s]"
      ]
     },
     "metadata": {},
     "output_type": "display_data"
    },
    {
     "name": "stdout",
     "output_type": "stream",
     "text": [
      "Imputing co2sensor - co2\n"
     ]
    },
    {
     "data": {
      "application/vnd.jupyter.widget-view+json": {
       "model_id": "e15cc079f0514664b5583e604bdca85d",
       "version_major": 2,
       "version_minor": 0
      },
      "text/plain": [
       "Dropdown(description='Config:', options=('factory zero', 'knmi'), value='factory zero')"
      ]
     },
     "metadata": {},
     "output_type": "display_data"
    },
    {
     "data": {
      "application/vnd.jupyter.widget-view+json": {
       "model_id": "51338dbbe2a3410ca2400f188101b2f8",
       "version_major": 2,
       "version_minor": 0
      },
      "text/plain": [
       "Tab(children=(VBox(children=(HTML(value='Uploaded file selector:'), HBox(children=(Dropdown(options=('021.xlsx…"
      ]
     },
     "metadata": {},
     "output_type": "display_data"
    },
    {
     "data": {
      "application/vnd.jupyter.widget-view+json": {
       "model_id": "779f09d0f02c4340a71d438dad38c4cf",
       "version_major": 2,
       "version_minor": 0
      },
      "text/plain": [
       "Tab(children=(VBox(children=(VBox(children=(HTML(value='Columns type:'), RadioButtons(options=('features', 'ta…"
      ]
     },
     "metadata": {},
     "output_type": "display_data"
    },
    {
     "data": {
      "application/vnd.jupyter.widget-view+json": {
       "model_id": "0ec530c4e7094651b604a87832f6859f",
       "version_major": 2,
       "version_minor": 0
      },
      "text/plain": [
       "HTML(value='')"
      ]
     },
     "metadata": {},
     "output_type": "display_data"
    },
    {
     "data": {
      "application/vnd.jupyter.widget-view+json": {
       "model_id": "76dd64694e904dd98153d33181958be6",
       "version_major": 2,
       "version_minor": 0
      },
      "text/plain": [
       "  0%|          | 0/105078 [00:00<?, ?it/s]"
      ]
     },
     "metadata": {},
     "output_type": "display_data"
    },
    {
     "data": {
      "application/vnd.jupyter.widget-view+json": {
       "model_id": "b413c3d785cf42fb9b5d50d01e4274eb",
       "version_major": 2,
       "version_minor": 0
      },
      "text/plain": [
       "  0%|          | 0/105078 [00:00<?, ?it/s]"
      ]
     },
     "metadata": {},
     "output_type": "display_data"
    },
    {
     "data": {
      "application/vnd.jupyter.widget-view+json": {
       "model_id": "a601ba84429c450ba4459dc540994a03",
       "version_major": 2,
       "version_minor": 0
      },
      "text/plain": [
       "  0%|          | 0/105078 [00:00<?, ?it/s]"
      ]
     },
     "metadata": {},
     "output_type": "display_data"
    },
    {
     "data": {
      "application/vnd.jupyter.widget-view+json": {
       "model_id": "a469812b6bca4d7ca151573cffea60d8",
       "version_major": 2,
       "version_minor": 0
      },
      "text/plain": [
       "  0%|          | 0/105078 [00:00<?, ?it/s]"
      ]
     },
     "metadata": {},
     "output_type": "display_data"
    },
    {
     "data": {
      "application/vnd.jupyter.widget-view+json": {
       "model_id": "73f351c121fb42d1a7297f5e8f83b79b",
       "version_major": 2,
       "version_minor": 0
      },
      "text/plain": [
       "  0%|          | 0/105078 [00:00<?, ?it/s]"
      ]
     },
     "metadata": {},
     "output_type": "display_data"
    }
   ],
   "source": [
    "from pipetorch import flight_passengers\n",
    "from pipetorch.train import *\n",
    "from pipetorch.data import PTDataFrame\n",
    "import time\n",
    "from datetime import datetime, timedelta\n",
    "from sklearn.metrics import *\n",
    "from sklearn.preprocessing import StandardScaler\n",
    "from trainer.DataFrameLoader import *\n",
    "import sys\n",
    "import ipywidgets as widgets\n",
    "import random\n",
    "from tqdm.notebook import trange\n",
    "\n",
    "rnn_config = {\n",
    "  \"random_state\": 0,\n",
    "  \"batch_size\": 5,\n",
    "  \"input_window_size\": 12,\n",
    "  \"output_window_size\": 1,\n",
    "  \"hidden_size\": 95,\n",
    "  \"num_layers\": 1,\n",
    "  \"loss\": \"MSELoss\",\n",
    "  \"rnn\": \"GRU\"\n",
    "}\n",
    "\n",
    "\n",
    "def factoryzero_date_parser(df: pd.DataFrame) -> pd.DataFrame:\n",
    "    df[\"Timestamp\"] = pd.to_datetime(df[\"Timestamp\"], unit='s').round('min')\n",
    "    df = df.set_index(\"Timestamp\")\n",
    "    return df\n",
    "\n",
    "\n",
    "def knmi_date_parser(df: pd.DataFrame) -> pd.DataFrame:\n",
    "    df = df.set_index([\"Date(YYYYMMDD)\", \"Hour\"])\n",
    "    def transform_index(index):\n",
    "        date, hour = index\n",
    "        return pd.to_datetime(str(date) + str(hour - 1), format='%Y%m%d%H')\n",
    "    df = df.set_index(df.index.map(transform_index))\n",
    "    return df\n",
    "\n",
    "\n",
    "to_impute = [\n",
    "    {\n",
    "        \"conf\": \"knmi\",\n",
    "        \"file\": \"344 Rotterdam.csv\",\n",
    "        \"date_parser\": knmi_date_parser,\n",
    "        \"target\": (\"0\", \"Temperature\"),\n",
    "        \"features\": [\n",
    "            (\"0\", \"Temperature\"),\n",
    "            (\"0\", \"Global Radiation\"),\n",
    "            (\"0\", \"Dew Temperature\"),\n",
    "            (\"0\", \"Relative atmospheric humidity\")\n",
    "        ]\n",
    "    },\n",
    "    {\n",
    "        \"conf\": \"knmi\",\n",
    "        \"file\": \"344 Rotterdam.csv\",\n",
    "        \"date_parser\": knmi_date_parser,\n",
    "        \"target\": (\"0\", \"Relative atmospheric humidity\"),\n",
    "        \"features\": [\n",
    "            (\"0\", \"Relative atmospheric humidity\"),\n",
    "            (\"0\", \"Sunshine duration\"),\n",
    "            (\"0\", \"Global Radiation\"),\n",
    "            (\"0\", \"Horizontal visibility\")\n",
    "        ]\n",
    "    },\n",
    "    {\n",
    "        \"conf\": \"knmi\",\n",
    "        \"file\": \"344 Rotterdam.csv\",\n",
    "        \"date_parser\": knmi_date_parser,\n",
    "        \"target\": (\"0\", \"Global Radiation\"),\n",
    "        \"features\": [\n",
    "            (\"0\", \"Global Radiation\"),\n",
    "            (\"0\", \"Relative atmospheric humidity\"),\n",
    "            (\"0\", \"Temperature\"),\n",
    "            (\"0\", \"Sunshine duration\")\n",
    "        ]\n",
    "    },\n",
    "    {\n",
    "        \"conf\": \"factory zero\",\n",
    "        \"file\": \"054.xlsx\",\n",
    "        \"date_parser\": factoryzero_date_parser,\n",
    "        \"target\": (\"alklimaHeatPump\", \"flow_temp\"),\n",
    "        \"features\": [\n",
    "            (\"alklimaHeatPump\", \"flow_temp\"),\n",
    "            (\"alklimaHeatPump\", \"return_temp\"),\n",
    "            (\"energyHeatpump\", \"power\")\n",
    "        ]\n",
    "    },\n",
    "    {\n",
    "        \"conf\": \"factory zero\",\n",
    "        \"file\": \"054.xlsx\",\n",
    "        \"date_parser\": factoryzero_date_parser,\n",
    "        \"target\": (\"alklimaHeatPump\", \"op_mode\"),\n",
    "        \"features\": [\n",
    "            (\"alklimaHeatPump\", \"op_mode\"),\n",
    "            (\"ventilation\", \"outdoor_temp\")\n",
    "        ]\n",
    "    },\n",
    "    {\n",
    "        \"conf\": \"factory zero\",\n",
    "        \"file\": \"054.xlsx\",\n",
    "        \"date_parser\": factoryzero_date_parser,\n",
    "        \"target\": (\"smartMeter\", \"power\"),\n",
    "        \"features\": [\n",
    "            (\"smartMeter\", \"power\"),\n",
    "            (\"ventilation\", \"outdoor_temp\"),\n",
    "            (\"ventilation\", \"room_temp\"),\n",
    "            (\"solar\", \"power\")\n",
    "        ]\n",
    "    },\n",
    "    {\n",
    "        \"conf\": \"factory zero\",\n",
    "        \"file\": \"054.xlsx\",\n",
    "        \"date_parser\": factoryzero_date_parser,\n",
    "        \"target\": (\"co2sensor\", \"co2\"),\n",
    "        \"features\": [\n",
    "            (\"co2sensor\", \"co2\")\n",
    "        ]\n",
    "    }\n",
    "]\n",
    "\n",
    "\n",
    "def to_sequence(x, y, input_window, output_window, device=torch.device('cpu')):\n",
    "    num_samples = x.shape[0] - input_window - output_window\n",
    "    def generator():\n",
    "        nonlocal num_samples, x, y, input_window, output_window, device\n",
    "        for i in range(num_samples):\n",
    "            start_x = i\n",
    "            end_x = start_x + input_window\n",
    "            X = x[start_x:end_x].values[:]\n",
    "\n",
    "            start_y = i + input_window\n",
    "            end_y = start_y + output_window\n",
    "            Y = y[start_y:end_y].values[:]\n",
    "\n",
    "            X_tensor = torch.from_numpy(np.array([X], dtype=np.float32)).to(device)\n",
    "            Y_tensor = torch.from_numpy(np.array([Y], dtype=np.float32)).to(device)\n",
    "            yield X_tensor, Y_tensor\n",
    "    return num_samples, generator()\n",
    "\n",
    "df = None\n",
    "dfs_with_gaps = []\n",
    "imputed_dfs = []\n",
    "\n",
    "for field in to_impute:\n",
    "    print(f\"Imputing {field['target'][0]} - {field['target'][1]}\")\n",
    "    # Set random state\n",
    "    torch.manual_seed(rnn_config[\"random_state\"])\n",
    "    np.random.seed(rnn_config[\"random_state\"])\n",
    "    random.seed(rnn_config[\"random_state\"])\n",
    "\n",
    "    devNullOutput = widgets.Output()\n",
    "\n",
    "    # Load the data\n",
    "    %run helpers/load_data.ipynb\n",
    "    config_select.value = field[\"conf\"]\n",
    "    file_select.value = field[\"file\"]\n",
    "\n",
    "    dfloader.add_targets(field['target'][1], sheet_name=field['target'][0])\n",
    "    for feature in field['features']:\n",
    "        dfloader.add_features(feature[1], sheet_name=feature[0])\n",
    "\n",
    "#     time_column_name = \"Timestamp\"\n",
    "#     dfloader.add_index_as_feature(time_column_name)\n",
    "\n",
    "    df = dfloader.df\n",
    "    # drop nan values\n",
    "    df.dropna(axis = 0, inplace = True)\n",
    "\n",
    "#     def roundTime(dt=None, roundTo=100):\n",
    "#         # Converting numpy.datetime64 to datetime.datetime\n",
    "#         ts = pd.Timestamp(dt)\n",
    "#         dt = ts.to_pydatetime()\n",
    "#         seconds = (dt.replace(tzinfo=None) - dt.min).seconds\n",
    "#         rounding = (seconds + roundTo / 2) // roundTo * roundTo\n",
    "#         return dt + timedelta(0, rounding - seconds, -dt.microsecond)\n",
    "\n",
    "#     df[time_column_name] = df[time_column_name].apply(roundTime)\n",
    "#     df[time_column_name] = pd.to_numeric(df[time_column_name])\n",
    "    \n",
    "    # Define the model\n",
    "    class RNN(nn.Module):\n",
    "        def __init__(self, input_size, hidden_size=100, num_layers=1, output_size=1, rnn=nn.LSTM):\n",
    "            super().__init__()\n",
    "            self.l1 = rnn(input_size, hidden_size, num_layers, batch_first=True)\n",
    "            self.l2 = nn.Linear(hidden_size, output_size)\n",
    "\n",
    "        def forward(self, X):\n",
    "            h, _ = self.l1(X)\n",
    "            h = h[:,-1, :]\n",
    "            y = self.l2(h)\n",
    "            y = y + X[:,-1,-1:]\n",
    "            return y\n",
    "\n",
    "    rnns = {m.__name__: m for m in [nn.LSTM, nn.GRU]}\n",
    "    model = RNN(\n",
    "        input_size=len(df.columns),\n",
    "        hidden_size=rnn_config[\"hidden_size\"],\n",
    "        num_layers=rnn_config[\"num_layers\"],\n",
    "        output_size=1,\n",
    "        rnn=rnns[rnn_config[\"rnn\"]]\n",
    "    )\n",
    "    model_file = f'../models/models-with-none/rnn-{field[\"target\"][1].replace(\" \", \"_\")}.pt'\n",
    "    model.load_state_dict(torch.load(model_file, map_location=torch.device('cpu')))\n",
    "\n",
    "    # Create gaps\n",
    "    %run helpers/create_gaps.ipynb\n",
    "\n",
    "    imputed_dfs = []\n",
    "    imputer_configs = []\n",
    "    imputer = {\n",
    "        'title': 'RNN'\n",
    "    }\n",
    "    imputation_date = datetime.now().replace(second=0, microsecond=0)\n",
    "    random_state = rnn_config[\"random_state\"]\n",
    "\n",
    "    iw = rnn_config[\"input_window_size\"]\n",
    "    ow = rnn_config[\"output_window_size\"]\n",
    "\n",
    "    for i in range(len(dfs_with_gaps)):\n",
    "        df_with_gaps = dfs_with_gaps[i]\n",
    "        rnn_config[\"model\"] = model_file\n",
    "        imputer_configs.append(rnn_config)\n",
    "        scaler = StandardScaler()\n",
    "        data = pd.DataFrame(data=scaler.fit_transform(df_with_gaps.values), columns=df_with_gaps.columns, index=df_with_gaps.index)\n",
    "        x = data[dfloader.features]\n",
    "        # interpolate nan values in the first `input_window_size` rows, as they cannot be imputed using RNN (no valid input sequence)\n",
    "        x.iloc[:iw] = x.iloc[:iw].interpolate(method='time', limit_direction=\"both\")\n",
    "        y = data[dfloader.targets]\n",
    "        num_samples, sequence = to_sequence(x, y, iw, ow)\n",
    "        with trange(num_samples) as tr:\n",
    "            for i in tr:\n",
    "                X, Y = next(sequence)\n",
    "                if not np.isnan(Y): # does not needs prediction\n",
    "                    continue\n",
    "                y_index = x.index[i + iw]\n",
    "                x.loc[y_index, dfloader.targets[0]] = model(X).item()\n",
    "        imputed_df = pd.DataFrame(data=scaler.inverse_transform(x.values), columns=df_with_gaps.columns, index=df_with_gaps.index)\n",
    "        imputed_dfs.append(imputed_df)\n",
    "\n",
    "    with devNullOutput:\n",
    "        %run helpers/evaluate.ipynb\n",
    "        %run helpers/saving-tmp.ipynb\n",
    "        save_eval_btn.click()\n",
    "        save_seperatly_btn.click()"
   ]
  },
  {
   "cell_type": "code",
   "execution_count": null,
   "id": "f53abce8",
   "metadata": {},
   "outputs": [],
   "source": [
    "!cp -r ./saved_results ./saved_results_BACKUP_NEW_05"
   ]
  },
  {
   "cell_type": "code",
   "execution_count": null,
   "id": "d1af161b",
   "metadata": {},
   "outputs": [],
   "source": []
  }
 ],
 "metadata": {
  "kernelspec": {
   "display_name": "Python 3 (ipykernel)",
   "language": "python",
   "name": "python3"
  },
  "language_info": {
   "codemirror_mode": {
    "name": "ipython",
    "version": 3
   },
   "file_extension": ".py",
   "mimetype": "text/x-python",
   "name": "python",
   "nbconvert_exporter": "python",
   "pygments_lexer": "ipython3",
   "version": "3.8.8"
  }
 },
 "nbformat": 4,
 "nbformat_minor": 5
}
