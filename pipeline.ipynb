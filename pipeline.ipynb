{
 "cells": [
  {
   "cell_type": "markdown",
   "id": "b28088a3",
   "metadata": {},
   "source": [
    "# Pipeline\n",
    "\n",
    "This pipeline is intended to simplify to whole process of loading a dataset, creating gaps of different types in it, imputing the missing data and evaluating the imputation method.\n",
    "You may want to edit the cells preceded by an <span style=\"color: red\">**EDIT:**</span> sign to fit your needs.\n",
    "\n",
    "## Install dependencies"
   ]
  },
  {
   "cell_type": "code",
   "execution_count": null,
   "id": "4746a805",
   "metadata": {
    "scrolled": false,
    "tags": [
     "hide_output"
    ]
   },
   "outputs": [],
   "source": [
    "!pip install openpyxl\n",
    "!pip install jupyterlab-widgets\n",
    "!pip install jsfileupload\n",
    "!pip install pyxlsb\n",
    "!pip install sklearn\n",
    "!pip install scipy"
   ]
  },
  {
   "cell_type": "markdown",
   "id": "b74c2801",
   "metadata": {},
   "source": [
    "## Set an arbitrary random state"
   ]
  },
  {
   "cell_type": "code",
   "execution_count": null,
   "id": "03b2deec",
   "metadata": {
    "scrolled": false
   },
   "outputs": [],
   "source": [
    "import random\n",
    "\n",
    "random.seed(0)"
   ]
  },
  {
   "cell_type": "markdown",
   "id": "a9e92bd3",
   "metadata": {},
   "source": [
    "## Load clean data\n",
    "\n",
    "> The upload form only supports files up to 10Mo. For larger files, please upload them directly to JupyterHub and provide a relative link to them in the text input herebelow.\n",
    "\n",
    "<span style=\"color:red\">**EDIT**: customize the dataset configuration.</span>"
   ]
  },
  {
   "cell_type": "code",
   "execution_count": null,
   "id": "c8057fb2",
   "metadata": {
    "scrolled": false
   },
   "outputs": [],
   "source": [
    "from config import config\n",
    "import pandas as pd\n",
    "\n",
    "# Define global variables for later use\n",
    "dataset_config = None\n",
    "filename: str = None\n",
    "buffer: bytes = None\n",
    "xl: pd.ExcelFile = None\n",
    "sheet: pd.DataFrame = None\n",
    "sheet_name: str = None\n",
    "df: pd.DataFrame = None\n",
    "column_name: str = None\n",
    "\n",
    "%run helpers/load_data.ipynb"
   ]
  },
  {
   "cell_type": "code",
   "execution_count": null,
   "id": "dd4c39cb",
   "metadata": {
    "scrolled": false
   },
   "outputs": [],
   "source": [
    "df = df.head(10000)\n",
    "# df.scale()\n",
    "df"
   ]
  },
  {
   "cell_type": "markdown",
   "id": "93c0ef87",
   "metadata": {},
   "source": [
    "## Create gaps of different sizes"
   ]
  },
  {
   "cell_type": "markdown",
   "id": "3c7da277",
   "metadata": {},
   "source": [
    "<span style=\"color:red\">**EDIT**: customize gaps sizes.</span>"
   ]
  },
  {
   "cell_type": "code",
   "execution_count": null,
   "id": "e0ad16b2",
   "metadata": {
    "scrolled": false
   },
   "outputs": [],
   "source": [
    "import numpy as np\n",
    "\n",
    "gaps_indices = []\n",
    "\n",
    "def create_gaps(df: pd.DataFrame, gaps_ratio: float, min_gap_size: int, max_gap_size: int):\n",
    "    global gaps_indices, dataset_config\n",
    "    indices_to_remove: [int] = []\n",
    "    gaps_locations = sorted(random.sample(\n",
    "        range(1, len(df) + 1),\n",
    "        int(len(df) * gaps_ratio)\n",
    "    ))\n",
    "    df_with_gaps = df.copy()\n",
    "\n",
    "    for i, gap_start in enumerate(gaps_locations):\n",
    "        gap_end = min(\n",
    "            gap_start + random.randint(min_gap_size, max_gap_size),\n",
    "            len(df) - 1\n",
    "        )\n",
    "        if len(gaps_locations) >= i + 2 and gap_end + dataset_config[\"min_gap_distance\"] >= gaps_locations[i + 1]:\n",
    "            continue\n",
    "        indices_to_remove.append([df.index[i] for i in range(gap_start, gap_end)])\n",
    "        df_with_gaps.loc[indices_to_remove[-1]] = np.nan\n",
    "    gaps_indices.append(indices_to_remove)\n",
    "    return df_with_gaps\n",
    "\n",
    "gaps_status = widgets.HTML(value=\"\")\n",
    "display(gaps_status)\n",
    "\n",
    "dfs_with_gaps: [pd.DataFrame] = []\n",
    "for i in range(len(dataset_config[\"gaps\"])):\n",
    "    gaps_status.value = f\"Creating gaps... ({i}/{len(dataset_config['gaps'])})\"\n",
    "    min_gap_size, max_gap_size, gaps_ratio = dataset_config[\"gaps\"][i]\n",
    "    dfs_with_gaps.append(create_gaps(df, gaps_ratio, min_gap_size, max_gap_size))\n",
    "gaps_status.value = \"Gaps created\""
   ]
  },
  {
   "cell_type": "markdown",
   "id": "ef0ed199",
   "metadata": {},
   "source": [
    "## Run the imputation"
   ]
  },
  {
   "cell_type": "markdown",
   "id": "56d8d190",
   "metadata": {},
   "source": [
    "<span style=\"color:red\">**EDIT**: create your own imputation strategy.</span>"
   ]
  },
  {
   "cell_type": "code",
   "execution_count": null,
   "id": "47757cbb",
   "metadata": {
    "scrolled": false
   },
   "outputs": [],
   "source": [
    "%run imputers/interpolate.ipynb\n",
    "%run imputers/median.ipynb\n",
    "%run imputers/mode.ipynb\n",
    "%run imputers/mean.ipynb\n",
    "%run imputers/knn.ipynb\n",
    "%run imputers/hotdeck.ipynb\n",
    "\n",
    "imputers = {\n",
    "    \"interpolation\": {\n",
    "        \"title\": \"Interpolation\",\n",
    "        \"function\": interpolate\n",
    "    },\n",
    "    \"median imputation\": {\n",
    "        \"title\": \"Median imputation\",\n",
    "        \"function\": median_imputation\n",
    "    },\n",
    "    \"mode imputation\": {\n",
    "        \"title\": \"Mode imputation\",\n",
    "        \"function\": mode_imputation\n",
    "    },\n",
    "    \"mean imputation\": {\n",
    "        \"title\": \"Mean imputation\",\n",
    "        \"function\": mean_imputation\n",
    "    },\n",
    "    \"KNN imputation\": {\n",
    "        \"title\": \"K-Nearest-Neighbors imputation\",\n",
    "        \"function\": KNNImputation\n",
    "    },\n",
    "    \"hotdeck imputation\": {\n",
    "        \"title\": \"Hot-deck imputation\",\n",
    "        \"function\": hotdeck\n",
    "    }\n",
    "}\n",
    "\n",
    "imputer_select = widgets.Dropdown(\n",
    "    options=list(imputers.keys()),\n",
    "    value=None,\n",
    "    description='Imputer:'\n",
    ")\n",
    "display(imputer_select)\n",
    "imputer = None\n",
    "imputed_dfs: [pd.DataFrame] = None\n",
    "\n",
    "imputation_status = widgets.HTML(value=\"\")\n",
    "custom_progress_status = widgets.HTML(value=\"\")\n",
    "display(imputation_status)\n",
    "display(custom_progress_status)\n",
    "\n",
    "puf = parse_uploaded_file_sync\n",
    "\n",
    "def on_imputer_select_change(evt):\n",
    "    global imputed_dfs, imputer\n",
    "    imputer = imputers[evt.new]\n",
    "    imputed_dfs = []\n",
    "    for i in range(len(dfs_with_gaps)):\n",
    "        imputation_status.value = f\"Running imputation... ({i}/{len(dfs_with_gaps)})\"\n",
    "        dataset_config['current_gap_indices'] = gaps_indices[i]\n",
    "        imputed_dfs.append(imputer[\"function\"](dfs_with_gaps[i], dataset_config, custom_progress_status))\n",
    "    imputation_status.value = \"Imputation complete\"\n",
    "imputer_select.observe(on_imputer_select_change, 'value')"
   ]
  },
  {
   "cell_type": "markdown",
   "id": "2254d527",
   "metadata": {},
   "source": [
    "## Plot the imputation results"
   ]
  },
  {
   "cell_type": "code",
   "execution_count": null,
   "id": "a8fbeb50",
   "metadata": {
    "scrolled": false
   },
   "outputs": [],
   "source": [
    "%matplotlib notebook\n",
    "\n",
    "def plot_imputation(gapped: pd.DataFrame, imputed: pd.DataFrame, y_label: str, title=\"Untitled\"):\n",
    "    global df\n",
    "    fig, ax = plt.subplots()\n",
    "    plt.title(title)\n",
    "    plt.xlabel(\"Time\")\n",
    "    plt.ylabel(y_label)\n",
    "    plt.plot(df, c=\"green\", label=\"Reference data\")\n",
    "    plt.plot(imputed, c=\"red\", label=\"Imputed data\")\n",
    "    plt.plot(gapped, c=\"cyan\", label=\"Data with gaps\")\n",
    "#     plt.plot(df - imputed, c=\"blue\", label=\"Error\")\n",
    "    ax.legend()\n",
    "    plt.show()\n",
    "\n",
    "for i in range(len(imputed_dfs)):\n",
    "    plot_imputation(dfs_with_gaps[i], imputed_dfs[i], column_name, f\"{imputer['title']} with gap type {i + 1}\")"
   ]
  },
  {
   "cell_type": "markdown",
   "id": "d1da8809",
   "metadata": {},
   "source": [
    "## Evaluate the imputation results"
   ]
  },
  {
   "cell_type": "code",
   "execution_count": null,
   "id": "9b78f2ab",
   "metadata": {
    "scrolled": false
   },
   "outputs": [],
   "source": [
    "%run helpers/evaluate.ipynb\n",
    "\n",
    "for i in range(len(imputed_dfs)):\n",
    "    flattened_indices = [it for sublist in gaps_indices[i] for it in sublist]\n",
    "    ref_values = [df.iloc[:, 0][index] for index in flattened_indices]\n",
    "    pred_values = [imputed_dfs[i].iloc[:, 0][index]\n",
    "                   for index in flattened_indices]\n",
    "\n",
    "    errors = [ref_values[i] - pred_values[i] for i in range(len(ref_values))]\n",
    "    abs_errors = [abs(it) for it in errors]\n",
    "\n",
    "    title = f\"Interpolation with gap type {i + 1} [{dataset_config['gaps'][i][0]};{dataset_config['gaps'][i][1]}]\"\n",
    "    results = {\n",
    "        \"Mean Squared Error\": mean_squared_error(df, imputed_dfs[i]),\n",
    "        \"Raw Bias\": raw_bias(errors),\n",
    "        \"Absolute Raw Bias\": abs_raw_bias(abs_errors),\n",
    "        \"Percent Bias\": percent_bias(ref_values, pred_values),\n",
    "        \"Errors sum\": sum_error(abs_errors),\n",
    "        \"Maximum error\": max_error(errors),\n",
    "        \"Variance error\": variance(df) - variance(imputed_dfs[i]),\n",
    "        \"Kurtosis error\": kurtosis(df) - kurtosis(imputed_dfs[i]),\n",
    "        \"Skewness error\": skewness(df) - skewness(imputed_dfs[i]),\n",
    "    }\n",
    "\n",
    "    print(title)\n",
    "    pretty_print(results, indent=1)\n",
    "    print(\"\")\n",
    "\n",
    "#     plot_error_distribution(errors, title)"
   ]
  },
  {
   "cell_type": "code",
   "execution_count": null,
   "id": "bab240ad",
   "metadata": {},
   "outputs": [],
   "source": []
  }
 ],
 "metadata": {
  "kernelspec": {
   "display_name": "Python 3 (ipykernel)",
   "language": "python",
   "name": "python3"
  },
  "language_info": {
   "codemirror_mode": {
    "name": "ipython",
    "version": 3
   },
   "file_extension": ".py",
   "mimetype": "text/x-python",
   "name": "python",
   "nbconvert_exporter": "python",
   "pygments_lexer": "ipython3",
   "version": "3.8.10"
  }
 },
 "nbformat": 4,
 "nbformat_minor": 5
}
