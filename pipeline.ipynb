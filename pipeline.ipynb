{
 "cells": [
  {
   "cell_type": "markdown",
   "id": "b28088a3",
   "metadata": {},
   "source": [
    "# Pipeline\n",
    "\n",
    "This pipeline is intended to simplify to whole process of loading a dataset, creating gaps of different types in it, imputing the missing data and evaluating the imputation method.\n",
    "You may want to edit the cells preceded by an <span style=\"color: red\">**EDIT:**</span> sign to fit your needs.\n",
    "\n",
    "## Install dependencies"
   ]
  },
  {
   "cell_type": "code",
   "execution_count": null,
   "id": "4746a805",
   "metadata": {
    "scrolled": false,
    "tags": [
     "hide_output"
    ]
   },
   "outputs": [],
   "source": [
    "!pip install openpyxl > /dev/null 2>&1\n",
    "!pip install jupyterlab-widgets > /dev/null 2>&1\n",
    "!pip install jsfileupload > /dev/null 2>&1\n",
    "!pip install pyxlsb > /dev/null 2>&1\n",
    "!pip install sklearn > /dev/null 2>&1\n",
    "!pip install scipy > /dev/null 2>&1"
   ]
  },
  {
   "cell_type": "markdown",
   "id": "b74c2801",
   "metadata": {},
   "source": [
    "## Set an arbitrary random state"
   ]
  },
  {
   "cell_type": "code",
   "execution_count": null,
   "id": "03b2deec",
   "metadata": {
    "scrolled": false
   },
   "outputs": [],
   "source": [
    "import random\n",
    "random_state = 0\n",
    "random.seed(random_state)"
   ]
  },
  {
   "cell_type": "markdown",
   "id": "a9e92bd3",
   "metadata": {},
   "source": [
    "## Load clean data\n",
    "\n",
    "> The upload form only supports files up to 10Mo. For larger files, please upload them directly to JupyterHub and provide a relative link to them in the text input herebelow.\n",
    "\n",
    "<span style=\"color:red\">**EDIT**: customize the dataset configuration.</span>"
   ]
  },
  {
   "cell_type": "code",
   "execution_count": null,
   "id": "c8057fb2",
   "metadata": {
    "scrolled": false
   },
   "outputs": [],
   "source": [
    "%run helpers/load_data.ipynb\n",
    "\n",
    "config_select.value = \"factory zero\"\n",
    "file_select.value = \"054.xlsx\"\n",
    "# dfloader.add_features('flow_temp', sheet_name='flowHeatSpaceHeating')\n",
    "dfloader.add_targets('power', sheet_name='smartMeter')\n"
   ]
  },
  {
   "cell_type": "code",
   "execution_count": null,
   "id": "06ce570a",
   "metadata": {},
   "outputs": [],
   "source": [
    "df = dfloader.df\n",
    "orig_size = len(df)\n",
    "df = df.dropna()\n",
    "size_after_drop = len(df)\n",
    "print(f'Droping {orig_size - size_after_drop} rows (NaN values in features)')\n",
    "df.head()"
   ]
  },
  {
   "cell_type": "code",
   "execution_count": null,
   "id": "14877e96",
   "metadata": {},
   "outputs": [],
   "source": [
    "df = df.head(10000)"
   ]
  },
  {
   "cell_type": "markdown",
   "id": "93c0ef87",
   "metadata": {},
   "source": [
    "## Create gaps of different sizes"
   ]
  },
  {
   "cell_type": "markdown",
   "id": "3c7da277",
   "metadata": {},
   "source": [
    "<span style=\"color:red\">**EDIT**: customize gaps sizes.</span>"
   ]
  },
  {
   "cell_type": "code",
   "execution_count": null,
   "id": "e0ad16b2",
   "metadata": {
    "scrolled": false
   },
   "outputs": [],
   "source": [
    "%run helpers/create_gaps.ipynb"
   ]
  },
  {
   "cell_type": "markdown",
   "id": "ef0ed199",
   "metadata": {},
   "source": [
    "## Run the imputation"
   ]
  },
  {
   "cell_type": "markdown",
   "id": "56d8d190",
   "metadata": {},
   "source": [
    "<span style=\"color:red\">**EDIT**: create your own imputation strategy.</span>"
   ]
  },
  {
   "cell_type": "code",
   "execution_count": null,
   "id": "47757cbb",
   "metadata": {
    "scrolled": false
   },
   "outputs": [],
   "source": [
    "%run helpers/impute.ipynb"
   ]
  },
  {
   "cell_type": "markdown",
   "id": "d1da8809",
   "metadata": {},
   "source": [
    "## Evaluate the imputation results"
   ]
  },
  {
   "cell_type": "code",
   "execution_count": null,
   "id": "9b78f2ab",
   "metadata": {
    "scrolled": false
   },
   "outputs": [],
   "source": [
    "%run helpers/evaluate.ipynb"
   ]
  },
  {
   "cell_type": "code",
   "execution_count": null,
   "id": "93f259e7",
   "metadata": {
    "scrolled": false
   },
   "outputs": [],
   "source": [
    "%run helpers/saving.ipynb"
   ]
  },
  {
   "cell_type": "code",
   "execution_count": null,
   "id": "1a53bcf2",
   "metadata": {},
   "outputs": [],
   "source": []
  }
 ],
 "metadata": {
  "kernelspec": {
   "display_name": "Python 3 (ipykernel)",
   "language": "python",
   "name": "python3"
  },
  "language_info": {
   "codemirror_mode": {
    "name": "ipython",
    "version": 3
   },
   "file_extension": ".py",
   "mimetype": "text/x-python",
   "name": "python",
   "nbconvert_exporter": "python",
   "pygments_lexer": "ipython3",
   "version": "3.8.10"
  }
 },
 "nbformat": 4,
 "nbformat_minor": 5
}
